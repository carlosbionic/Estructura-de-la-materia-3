{
 "cells": [
  {
   "cell_type": "markdown",
   "metadata": {},
   "source": [
    "# DFT Helio"
   ]
  },
  {
   "cell_type": "code",
   "execution_count": 8,
   "metadata": {},
   "outputs": [],
   "source": [
    "import numpy as np\n",
    "import scipy as sp\n",
    "#import sympy as sym\n",
    "from scipy.integrate import odeint\n",
    "import matplotlib.pyplot as plt\n",
    "\n",
    "#init_printing()"
   ]
  },
  {
   "cell_type": "markdown",
   "metadata": {},
   "source": [
    "## Solucion de la ecuacion de Schrodinger"
   ]
  },
  {
   "cell_type": "code",
   "execution_count": 126,
   "metadata": {},
   "outputs": [],
   "source": [
    "def schr(x,V):\n",
    "    \n",
    "    print('Resolviendo Schrodinger')\n",
    "\n",
    "    h = x[1]-x[0] # Delta x\n",
    "\n",
    "    E = -0.5\n",
    "    deltaE = 0.02\n",
    "\n",
    "    #m = 1\n",
    "    count = 0\n",
    "    while (x[N-1]>0.2):\n",
    "\n",
    "        if (m<0):\n",
    "            E = E - deltaE\n",
    "        else:\n",
    "            E = E + deltaE\n",
    "\n",
    "        y = np.zeros_like(x) # y va de 0 a N-1\n",
    "\n",
    "        #Condiciones iniciales\n",
    "        y[0] = 0.0\n",
    "        y[1] = h\n",
    "\n",
    "        for i in range(1,N-1):\n",
    "            y[i+1] = -2*(h**2) *(E-V[i])*y[i] + 2*y[i] - y[i-1]\n",
    "\n",
    "        # Calculo la derivada en x = 10\n",
    "        #m = (y[int(N)-1]-y[int(N)-2])/h\n",
    "\n",
    "        count = count + 1\n",
    "\n",
    "    #print('E=',E)\n",
    "    return E,y"
   ]
  },
  {
   "cell_type": "code",
   "execution_count": 114,
   "metadata": {},
   "outputs": [],
   "source": [
    "# Definición del Potencial\n",
    "\n",
    "def Vpot(x):\n",
    "    #return ( (x-5)**2 )/ 2.0\n",
    "    return -1/x"
   ]
  },
  {
   "cell_type": "code",
   "execution_count": 3,
   "metadata": {},
   "outputs": [],
   "source": [
    "def g(y, x, E):\n",
    "    return [y[1],2*(Vpot(x)-E)*y[0]]"
   ]
  },
  {
   "cell_type": "markdown",
   "metadata": {},
   "source": [
    "## Hago un grid logaritmico \n",
    "\n",
    "$ r_j = r_p[exp(j\\delta) - 1] \\qquad , \\qquad j = 0,1,\\cdots,j_{max} $\n",
    "\n",
    "$ r_p = r_{max}/[exp(j_{max}\\delta) - 1] $"
   ]
  },
  {
   "cell_type": "code",
   "execution_count": 127,
   "metadata": {},
   "outputs": [
    {
     "data": {
      "text/plain": [
       "<function matplotlib.pyplot.show>"
      ]
     },
     "execution_count": 127,
     "metadata": {},
     "output_type": "execute_result"
    },
    {
     "data": {
      "image/png": "[encoded data removed]",
      "text/plain": [
       "<matplotlib.figure.Figure at 0x7f6df0406ef0>"
      ]
     },
     "metadata": {},
     "output_type": "display_data"
    }
   ],
   "source": [
    "# Hago un grid logaritmico \n",
    "\n",
    "r_min = 0.01\n",
    "r_max = 60\n",
    "j_max = 12 #Cantidad de puntos totales\n",
    "delta = 0.3 # Controla el espaciamiento relativo\n",
    "\n",
    "r_p = r_max/(np.exp(j_max*delta)-1)\n",
    "\n",
    "#x = np.linspace(r_min,r_max,j_max)\n",
    "j = np.linspace(0,j_max,j_max+1) # j va de 0 a j_max\n",
    "\n",
    "plt.scatter( r_p*(np.exp(j*delta)-1),0*j )\n",
    "plt.show"
   ]
  },
  {
   "cell_type": "code",
   "execution_count": 30,
   "metadata": {},
   "outputs": [
    {
     "ename": "ValueError",
     "evalue": "setting an array element with a sequence.",
     "output_type": "error",
     "traceback": [
      "\u001b[0;31m---------------------------------------------------------------------------\u001b[0m",
      "\u001b[0;31mValueError\u001b[0m                                Traceback (most recent call last)",
      "\u001b[0;32m<ipython-input-30-c3ca0d361439>\u001b[0m in \u001b[0;36m<module>\u001b[0;34m()\u001b[0m\n\u001b[1;32m     10\u001b[0m \u001b[0;34m\u001b[0m\u001b[0m\n\u001b[1;32m     11\u001b[0m \u001b[0;31m# Solucion ecuación diferencial\u001b[0m\u001b[0;34m\u001b[0m\u001b[0;34m\u001b[0m\u001b[0m\n\u001b[0;32m---> 12\u001b[0;31m \u001b[0msol\u001b[0m \u001b[0;34m=\u001b[0m \u001b[0modeint\u001b[0m\u001b[0;34m(\u001b[0m\u001b[0mg\u001b[0m\u001b[0;34m,\u001b[0m\u001b[0minitialY\u001b[0m\u001b[0;34m,\u001b[0m\u001b[0mx\u001b[0m\u001b[0;34m,\u001b[0m\u001b[0;34m(\u001b[0m\u001b[0mE\u001b[0m\u001b[0;34m,\u001b[0m\u001b[0;34m)\u001b[0m\u001b[0;34m)\u001b[0m\u001b[0;34m\u001b[0m\u001b[0m\n\u001b[0m\u001b[1;32m     13\u001b[0m \u001b[0;32mprint\u001b[0m\u001b[0;34m(\u001b[0m\u001b[0;34m'phi(r=0)='\u001b[0m\u001b[0;34m,\u001b[0m\u001b[0msol\u001b[0m\u001b[0;34m[\u001b[0m\u001b[0;36m999\u001b[0m\u001b[0;34m,\u001b[0m\u001b[0;36m0\u001b[0m\u001b[0;34m]\u001b[0m\u001b[0;34m)\u001b[0m\u001b[0;34m\u001b[0m\u001b[0m\n\u001b[1;32m     14\u001b[0m \u001b[0;34m\u001b[0m\u001b[0m\n",
      "\u001b[0;32m/usr/local/lib/python2.7/dist-packages/scipy/integrate/odepack.pyc\u001b[0m in \u001b[0;36modeint\u001b[0;34m(func, y0, t, args, Dfun, col_deriv, full_output, ml, mu, rtol, atol, tcrit, h0, hmax, hmin, ixpr, mxstep, mxhnil, mxordn, mxords, printmessg)\u001b[0m\n\u001b[1;32m    213\u001b[0m     output = _odepack.odeint(func, y0, t, args, Dfun, col_deriv, ml, mu,\n\u001b[1;32m    214\u001b[0m                              \u001b[0mfull_output\u001b[0m\u001b[0;34m,\u001b[0m \u001b[0mrtol\u001b[0m\u001b[0;34m,\u001b[0m \u001b[0matol\u001b[0m\u001b[0;34m,\u001b[0m \u001b[0mtcrit\u001b[0m\u001b[0;34m,\u001b[0m \u001b[0mh0\u001b[0m\u001b[0;34m,\u001b[0m \u001b[0mhmax\u001b[0m\u001b[0;34m,\u001b[0m \u001b[0mhmin\u001b[0m\u001b[0;34m,\u001b[0m\u001b[0;34m\u001b[0m\u001b[0m\n\u001b[0;32m--> 215\u001b[0;31m                              ixpr, mxstep, mxhnil, mxordn, mxords)\n\u001b[0m\u001b[1;32m    216\u001b[0m     \u001b[0;32mif\u001b[0m \u001b[0moutput\u001b[0m\u001b[0;34m[\u001b[0m\u001b[0;34m-\u001b[0m\u001b[0;36m1\u001b[0m\u001b[0;34m]\u001b[0m \u001b[0;34m<\u001b[0m \u001b[0;36m0\u001b[0m\u001b[0;34m:\u001b[0m\u001b[0;34m\u001b[0m\u001b[0m\n\u001b[1;32m    217\u001b[0m         \u001b[0mwarning_msg\u001b[0m \u001b[0;34m=\u001b[0m \u001b[0m_msgs\u001b[0m\u001b[0;34m[\u001b[0m\u001b[0moutput\u001b[0m\u001b[0;34m[\u001b[0m\u001b[0;34m-\u001b[0m\u001b[0;36m1\u001b[0m\u001b[0;34m]\u001b[0m\u001b[0;34m]\u001b[0m \u001b[0;34m+\u001b[0m \u001b[0;34m\" Run with full_output = 1 to get quantitative information.\"\u001b[0m\u001b[0;34m\u001b[0m\u001b[0m\n",
      "\u001b[0;31mValueError\u001b[0m: setting an array element with a sequence."
     ]
    }
   ],
   "source": [
    "# Valores iniciales de phi(x) y phi'(x)\n",
    "\n",
    "r_max = 10.0\n",
    "initialY = r_max*np.exp(-r_max),(1.0-r_max)*np.exp(-r_max)\n",
    "\n",
    "# Valor tentativo de E (para el atomo de Hidrogeno)\n",
    "E = -0.5\n",
    "\n",
    "x = np.linspace(r_max,0.01,1000) # Integro de derecha a izquierda\n",
    "\n",
    "# Solucion ecuación diferencial\n",
    "sol = odeint(g,initialY,x,(E,))\n",
    "print('phi(r=0)=',sol[999,0])\n",
    "\n",
    "norm = sp.integrate.simps(sol[:,0]**2,x)\n",
    "print('norm=',-norm)\n",
    "\n",
    "# Ploteo la solución (la densidad, phi cuadrado, normalizada)\n",
    "plt.plot(x, (sol[:,0]**2)/-norm, color='b')\n",
    "plt.axis([0, 4, 0,0.7])\n",
    "#plt.plot(x,Vpot(x),color='k') # Plotea el potencial\n",
    "\n",
    "plt.title('u(r)=phi(r)**2',fontsize=20)\n",
    "plt.xlabel('r',fontsize=20)\n",
    "plt.ylabel('u(r)',fontsize=20)\n",
    "plt.show()\n"
   ]
  },
  {
   "cell_type": "markdown",
   "metadata": {},
   "source": [
    "## Incluyo el potencial de Hartree\n",
    "\n",
    "### Tengo que resolver la ecuacion\n",
    "\n",
    "$ U''(r) = -\\cfrac{u^2(r)}{r} $\n",
    "\n",
    "$ U(0) = 0 $\n",
    "\n",
    "$ U(r_{max}) = q_{max} $\n",
    "\n",
    "$ U(r) = r V_H(r) $\n",
    "\n",
    "$ n(r) = \\sum_k \\vert \\psi_k(r)\\vert^2 $ "
   ]
  },
  {
   "cell_type": "code",
   "execution_count": 10,
   "metadata": {},
   "outputs": [],
   "source": [
    "# Definición de la funcion densidad u(x)\n",
    "# Uso de base las funciones hidrogenicas\n",
    "\n",
    "def u(x):\n",
    "    #return ( (x-5)**2 )/ 2.0\n",
    "    return 2*x*np.exp(-x)"
   ]
  },
  {
   "cell_type": "code",
   "execution_count": 11,
   "metadata": {},
   "outputs": [],
   "source": [
    "def h(y, x):\n",
    "    return [y[1],-(u(x)**2/x)*y[0]]"
   ]
  },
  {
   "cell_type": "markdown",
   "metadata": {},
   "source": [
    "## Chequeo para el Hidrogeno"
   ]
  },
  {
   "cell_type": "code",
   "execution_count": 17,
   "metadata": {},
   "outputs": [
    {
     "data": {
      "image/png": "[encoded data removed]",
      "text/plain": [
       "<matplotlib.figure.Figure at 0xa2b4e36c>"
      ]
     },
     "metadata": {},
     "output_type": "display_data"
    }
   ],
   "source": [
    "# Valores iniciales de U(x) y U'(x)\n",
    "\n",
    "r_max = 10.0\n",
    "q_max = 1.0 # Carga total para el Hidrogeno\n",
    "initialY = 0.0001,1.0\n",
    "\n",
    "# Valor tentativo de E (para el atomo de Hidrogeno)\n",
    "#E = -0.5\n",
    "\n",
    "x = np.linspace(0.0001,r_max,1000) # Integro de izquierda a derecha\n",
    "\n",
    "# Solucion ecuación diferencial\n",
    "sol = odeint(h,initialY,x)\n",
    "\n",
    "alpha = (q_max-sol[1000-1,0])/r_max\n",
    "\n",
    "# Ploteo la solución (la densidad, phi cuadrado, normalizada)\n",
    "plt.plot(x, sol[:,0]+alpha*x, color='b') # Numerica\n",
    "#plt.plot(x, (sol[:,0]+alpha*x)/x, color='r')\n",
    "plt.plot(x,1-(x+1)*np.exp(-2*x),color='r') # Teorica\n",
    "plt.axis([0, 10, 0,1.5])\n",
    "#plt.plot(x,Vpot(x),color='k') # Plotea el potencial\n",
    "\n",
    "#plt.title('U(r)=phi(r)**2',fontsize=20)\n",
    "plt.xlabel('r',fontsize=20)\n",
    "plt.ylabel('U(r)',fontsize=20)\n",
    "\n",
    "plt.show()"
   ]
  },
  {
   "cell_type": "markdown",
   "metadata": {},
   "source": [
    "## Lo hago para el Helio"
   ]
  },
  {
   "cell_type": "code",
   "execution_count": 50,
   "metadata": {},
   "outputs": [
    {
     "data": {
      "image/png": "[encoded data removed]",
      "text/plain": [
       "<matplotlib.figure.Figure at 0xa2af92ac>"
      ]
     },
     "metadata": {},
     "output_type": "display_data"
    }
   ],
   "source": [
    "# Valores iniciales de U(x) y U'(x)\n",
    "\n",
    "r_max = 10.0\n",
    "q_max = 2.0 # Carga total para el Helio\n",
    "initialY = 0.0001,1.0\n",
    "\n",
    "# Valor tentativo de E (para el atomo de Hidrogeno)\n",
    "#E = -0.5\n",
    "\n",
    "x = np.linspace(0.0001,r_max,1000) # Integro de izquierda a derecha\n",
    "\n",
    "# Solucion ecuación diferencial\n",
    "sol = odeint(h,initialY,x)\n",
    "\n",
    "alpha = (q_max-sol[1000-1,0])/r_max\n",
    "\n",
    "# Ploteo la solución (la densidad, phi cuadrado, normalizada)\n",
    "plt.plot(x, sol[:,0]+alpha*x, color='b') # Numerica\n",
    "V_H = (sol[:,0]+alpha*x)/x\n",
    "plt.plot(x, V_H, color='r') # Este es el V_H\n",
    "plt.axis([0, 10, 0, 2])\n",
    "#plt.plot(x,Vpot(x),color='k') # Plotea el potencial\n",
    "\n",
    "#plt.title('U(r)=phi(r)**2',fontsize=20)\n",
    "plt.xlabel('r',fontsize=20)\n",
    "plt.ylabel('U(r)',fontsize=20)\n",
    "\n",
    "plt.show()"
   ]
  },
  {
   "cell_type": "code",
   "execution_count": 76,
   "metadata": {},
   "outputs": [],
   "source": [
    "# La solucion de el problema en cada paso\n",
    "def u(w):\n",
    "    for i in range(1,N):\n",
    "        if (w <= x[i] and w > x[i-1]):\n",
    "            break\n",
    "    return sol[i,0]"
   ]
  },
  {
   "cell_type": "code",
   "execution_count": 85,
   "metadata": {},
   "outputs": [
    {
     "data": {
      "text/plain": [
       "[<matplotlib.lines.Line2D at 0xa2a6c6ec>,\n",
       " <matplotlib.lines.Line2D at 0xa2a6c86c>]"
      ]
     },
     "execution_count": 85,
     "metadata": {},
     "output_type": "execute_result"
    },
    {
     "data": {
      "image/png": "[encoded data removed]",
      "text/plain": [
       "<matplotlib.figure.Figure at 0xa2b4f48c>"
      ]
     },
     "metadata": {},
     "output_type": "display_data"
    }
   ],
   "source": [
    "uu=np.zeros(N)\n",
    "\n",
    "for i in range(N):\n",
    "    uu[i]=u(x[i])\n",
    "plt.plot(x,uu,x,sol[:,0]+0.1)"
   ]
  },
  {
   "cell_type": "markdown",
   "metadata": {},
   "source": [
    "## Aca calculo la energia para el Helio iterando con DFT"
   ]
  },
  {
   "cell_type": "code",
   "execution_count": 127,
   "metadata": {},
   "outputs": [
    {
     "name": "stdout",
     "output_type": "stream",
     "text": [
      "('iteracion ', 0)\n",
      "caca\n",
      "Resolviendo Schrodinger\n"
     ]
    },
    {
     "ename": "KeyboardInterrupt",
     "evalue": "",
     "output_type": "error",
     "traceback": [
      "\u001b[0;31m---------------------------------------------------------------------------\u001b[0m",
      "\u001b[0;31mKeyboardInterrupt\u001b[0m                         Traceback (most recent call last)",
      "\u001b[0;32m<ipython-input-127-7b07633f0c1d>\u001b[0m in \u001b[0;36m<module>\u001b[0;34m()\u001b[0m\n\u001b[1;32m     33\u001b[0m     \u001b[0;31m# Solucion ecuación diferencial\u001b[0m\u001b[0;34m\u001b[0m\u001b[0;34m\u001b[0m\u001b[0m\n\u001b[1;32m     34\u001b[0m     \u001b[0;32mprint\u001b[0m\u001b[0;34m(\u001b[0m\u001b[0;34m'caca'\u001b[0m\u001b[0;34m)\u001b[0m\u001b[0;34m\u001b[0m\u001b[0m\n\u001b[0;32m---> 35\u001b[0;31m     \u001b[0mE\u001b[0m \u001b[0;34m=\u001b[0m \u001b[0mschr\u001b[0m\u001b[0;34m(\u001b[0m\u001b[0mx\u001b[0m\u001b[0;34m,\u001b[0m\u001b[0mV_tot\u001b[0m\u001b[0;34m)\u001b[0m\u001b[0;34m[\u001b[0m\u001b[0;36m0\u001b[0m\u001b[0;34m]\u001b[0m\u001b[0;34m\u001b[0m\u001b[0m\n\u001b[0m\u001b[1;32m     36\u001b[0m \u001b[0;34m\u001b[0m\u001b[0m\n\u001b[1;32m     37\u001b[0m \u001b[0;34m\u001b[0m\u001b[0m\n",
      "\u001b[0;32m<ipython-input-126-a4af0d804265>\u001b[0m in \u001b[0;36mschr\u001b[0;34m(x, V)\u001b[0m\n\u001b[1;32m     24\u001b[0m \u001b[0;34m\u001b[0m\u001b[0m\n\u001b[1;32m     25\u001b[0m         \u001b[0;32mfor\u001b[0m \u001b[0mi\u001b[0m \u001b[0;32min\u001b[0m \u001b[0mrange\u001b[0m\u001b[0;34m(\u001b[0m\u001b[0;36m1\u001b[0m\u001b[0;34m,\u001b[0m\u001b[0mN\u001b[0m\u001b[0;34m-\u001b[0m\u001b[0;36m1\u001b[0m\u001b[0;34m)\u001b[0m\u001b[0;34m:\u001b[0m\u001b[0;34m\u001b[0m\u001b[0m\n\u001b[0;32m---> 26\u001b[0;31m             \u001b[0my\u001b[0m\u001b[0;34m[\u001b[0m\u001b[0mi\u001b[0m\u001b[0;34m+\u001b[0m\u001b[0;36m1\u001b[0m\u001b[0;34m]\u001b[0m \u001b[0;34m=\u001b[0m \u001b[0;34m-\u001b[0m\u001b[0;36m2\u001b[0m\u001b[0;34m*\u001b[0m\u001b[0;34m(\u001b[0m\u001b[0mh\u001b[0m\u001b[0;34m**\u001b[0m\u001b[0;36m2\u001b[0m\u001b[0;34m)\u001b[0m \u001b[0;34m*\u001b[0m\u001b[0;34m(\u001b[0m\u001b[0mE\u001b[0m\u001b[0;34m-\u001b[0m\u001b[0mV\u001b[0m\u001b[0;34m[\u001b[0m\u001b[0mi\u001b[0m\u001b[0;34m]\u001b[0m\u001b[0;34m)\u001b[0m\u001b[0;34m*\u001b[0m\u001b[0my\u001b[0m\u001b[0;34m[\u001b[0m\u001b[0mi\u001b[0m\u001b[0;34m]\u001b[0m \u001b[0;34m+\u001b[0m \u001b[0;36m2\u001b[0m\u001b[0;34m*\u001b[0m\u001b[0my\u001b[0m\u001b[0;34m[\u001b[0m\u001b[0mi\u001b[0m\u001b[0;34m]\u001b[0m \u001b[0;34m-\u001b[0m \u001b[0my\u001b[0m\u001b[0;34m[\u001b[0m\u001b[0mi\u001b[0m\u001b[0;34m-\u001b[0m\u001b[0;36m1\u001b[0m\u001b[0;34m]\u001b[0m\u001b[0;34m\u001b[0m\u001b[0m\n\u001b[0m\u001b[1;32m     27\u001b[0m \u001b[0;34m\u001b[0m\u001b[0m\n\u001b[1;32m     28\u001b[0m         \u001b[0;31m# Calculo la derivada en x = 10\u001b[0m\u001b[0;34m\u001b[0m\u001b[0;34m\u001b[0m\u001b[0m\n",
      "\u001b[0;31mKeyboardInterrupt\u001b[0m: "
     ]
    }
   ],
   "source": [
    "N = 100\n",
    "r_max = 10.0\n",
    "q_max = 2.0 # Carga total para el Helio\n",
    "initialY = 0.001,1.0\n",
    "\n",
    "x = np.linspace(0.001,r_max,N) # Integro de izquierda a derecha\n",
    "\n",
    "# Definición de la funcion densidad u(x)\n",
    "# Uso de base las funciones hidrogenicas\n",
    "\n",
    "def u(x):\n",
    "    return 2*x*np.exp(-x)\n",
    "\n",
    "# Defino la funcion a integrar, para calcular la U\n",
    "def h(y, x):\n",
    "    return [y[1],-(u(x)**2/x)*y[0]]\n",
    "\n",
    "sol = odeint(h,initialY,x)\n",
    "\n",
    "#######################################\n",
    "### ACA EMPIEZO LA ITERACION DE DFT ###\n",
    "#######################################\n",
    "for j in range(4):\n",
    "    \n",
    "    print('iteracion ',j)\n",
    "    alpha = (q_max-sol[N-1,0])/r_max\n",
    "    V_H = (sol[:,0]+alpha*x)/x\n",
    "    V_tot = np.zeros(N)\n",
    "\n",
    "    for i in range(N):\n",
    "        V_tot[i] = V_H[i] + Vpot(x[i])\n",
    "\n",
    "    # Solucion ecuación diferencial\n",
    "    print('caca')\n",
    "    E = schr(x,V_tot)[0]\n",
    "\n",
    "\n",
    "    #Calculo la energia. Ecuacion (5.36) Thijssen\n",
    "    E =  2*E- sp.integrate.simps(V_H* sol[:,0]**2,x)\n",
    "    print('E =',E)\n",
    "    #norm = sp.integrate.simps(sol[:,0]**2,x)\n",
    "\n",
    "    # Redefino el u\n",
    "\n",
    "    def uu(w):\n",
    "        for i in range(1,N):\n",
    "            if (w <= x[i] and w > x[i-1]):\n",
    "                break\n",
    "        return sol[i,0]\n",
    "    \n",
    "    def h(y, x):\n",
    "        return [y[1],-(uu(x)**2/x)*y[0]]\n",
    "    \n",
    "    sol = odeint(h,initialY,x)\n"
   ]
  },
  {
   "cell_type": "code",
   "execution_count": 97,
   "metadata": {},
   "outputs": [
    {
     "name": "stdout",
     "output_type": "stream",
     "text": [
      "0\n",
      "1\n",
      "2\n",
      "3\n"
     ]
    }
   ],
   "source": [
    "for i in range(4):\n",
    "    print(i)"
   ]
  },
  {
   "cell_type": "code",
   "execution_count": null,
   "metadata": {},
   "outputs": [],
   "source": []
  }
 ],
 "metadata": {
  "kernelspec": {
   "display_name": "Python 2",
   "language": "python",
   "name": "python2"
  },
  "language_info": {
   "codemirror_mode": {
    "name": "ipython",
    "version": 2
   },
   "file_extension": ".py",
   "mimetype": "text/x-python",
   "name": "python",
   "nbconvert_exporter": "python",
   "pygments_lexer": "ipython2",
   "version": "2.7.12"
  }
 },
 "nbformat": 4,
 "nbformat_minor": 2
}
