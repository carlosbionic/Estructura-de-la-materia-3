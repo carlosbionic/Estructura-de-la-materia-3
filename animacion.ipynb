{
 "cells": [
  {
   "cell_type": "markdown",
   "metadata": {},
   "source": [
    "# Animación\n",
    "\n",
    "Vamos a construir una función que permita animar $f(x,t)$ graficada en algun intervalo $[x_0,x_f]\\times[t_0,t_f]$ con un intervalos $dx$ y $dt$.\n",
    "\n",
    "Vamos a usar las librerias siguientes."
   ]
  },
  {
   "cell_type": "code",
   "execution_count": 7,
   "metadata": {},
   "outputs": [],
   "source": [
    "# Cargamos las librerias necesarias \n",
    "\n",
    "# Herramientas matematicas\n",
    "import numpy as np\n",
    "# Herramientas para ploteo\n",
    "import matplotlib.pyplot as plt\n",
    "\n",
    "# Modulo de animacion\n",
    "from matplotlib import animation, rc\n",
    "# Modulo para mostrar la animacion en el notebook\n",
    "from IPython.display import HTML\n",
    "\n",
    "# Importamos la division de python 3\n",
    "from __future__ import division"
   ]
  },
  {
   "cell_type": "markdown",
   "metadata": {},
   "source": [
    "Definimos la función animar. Por defecto en el intervalo $[0,1]\\times[0,1]$ con un paso de $0.01$ en $dx$ y $dt."
   ]
  },
  {
   "cell_type": "code",
   "execution_count": 8,
   "metadata": {},
   "outputs": [],
   "source": [
    "def animar(f,x0=0,xf=1,dx=0.01,t0=0,tf=1,dt=0.01, ym=-2, yM= 2):\n",
    "    \"\"\"\n",
    "    Funcion para realizar animaciones. Toma como entrada una funcion\n",
    "        f(x,t)\n",
    "    donde el primer argumento es la coordenada espacial y el segundo la temporal.\n",
    "    \n",
    "    Requiere tener instalada en el sistema operativo la libreria ffmpeg.\n",
    "    \n",
    "    Ademas pide como argumento de entrada\n",
    "        x0 - la coordenada x inicial\n",
    "        xf - la coordenada x final\n",
    "        dx - el valor entre dos puntos sucesivos de x\n",
    "        t0 - la coordenada t inicial\n",
    "        tf - la coordenada t final\n",
    "        dt - el valor entre dos puntos sucesivos de t\n",
    "        ym - Valor minimo para y\n",
    "        yM - Valor maximo para y\n",
    "        \n",
    "    ademas\n",
    "    \n",
    "        filename - archivo para guardar la animacion.\n",
    "            \n",
    "    Esta harcodeado el tiempo entre dos frames en 5ms. Pero se puede cambiar cambiando el valor de \n",
    "        `interval` que aparece mas abajo.\n",
    "    \"\"\"\n",
    "    # Definimos los intervalos para graficar\n",
    "    x = np.linspace(x0,xf,int((xf-x0)/dx))\n",
    "    t = np.linspace(t0,tf,int((tf-t0)/dt))\n",
    "    \n",
    "    # Ponemos los ejes para la figura\n",
    "    fig, ax = plt.subplots()\n",
    "\n",
    "    ax.set_xlim((x0, xf))\n",
    "    ax.set_ylim((ym, yM))\n",
    "\n",
    "    line, = ax.plot([], [], lw=2)\n",
    "    \n",
    "    # Definimos la funcion que crea un grafico vacio\n",
    "    def init():\n",
    "        line.set_data([], [])\n",
    "        return (line,)\n",
    "    \n",
    "    # Funcion que crea cada frame\n",
    "    def animate(i):\n",
    "        y = f(x,i)\n",
    "        line.set_data(x, y)\n",
    "        return (line,)\n",
    "    # Creamos el objeto animado\n",
    "    anim = animation.FuncAnimation(fig, animate, init_func=init,\n",
    "                                   frames=t, interval=20, blit=True)\n",
    "    plt.show()\n",
    "    return anim"
   ]
  },
  {
   "cell_type": "markdown",
   "metadata": {},
   "source": [
    "## Ejemplo: onda estacionaria\n",
    "$f(x,t) = \\cos(2\\pi x)\\sin(2\\pi t)$$"
   ]
  },
  {
   "cell_type": "code",
   "execution_count": 9,
   "metadata": {},
   "outputs": [],
   "source": [
    "# Definimos la funcion que queremos animar\n",
    "def f(x,t):\n",
    "    return np.cos(2*np.pi*x)*np.sin(2*np.pi*t)"
   ]
  },
  {
   "cell_type": "markdown",
   "metadata": {},
   "source": [
    "Hacemos la animacion"
   ]
  },
  {
   "cell_type": "code",
   "execution_count": 10,
   "metadata": {
    "scrolled": true
   },
   "outputs": [
    {
     "data": {
      "image/png": "[encoded data removed]",
      "text/plain": [
       "<matplotlib.figure.Figure at 0x7f1886bfd240>"
      ]
     },
     "metadata": {},
     "output_type": "display_data"
    }
   ],
   "source": [
    "anim = animar(f);"
   ]
  },
  {
   "cell_type": "code",
   "execution_count": 11,
   "metadata": {},
   "outputs": [
    {
     "name": "stderr",
     "output_type": "stream",
     "text": [
      "/home/bionic/.local/lib/python3.5/site-packages/matplotlib/animation.py:1218: UserWarning: MovieWriter ffmpeg unavailable\n",
      "  warnings.warn(\"MovieWriter %s unavailable\" % writer)\n"
     ]
    }
   ],
   "source": [
    "anim.save(\"paquete.mp4\")"
   ]
  },
  {
   "cell_type": "markdown",
   "metadata": {},
   "source": [
    "## Ejemplo: onda viajera\n",
    "$f(x,t) = \\cos(2\\pi x-2\\pi t)$$"
   ]
  },
  {
   "cell_type": "code",
   "execution_count": 5,
   "metadata": {},
   "outputs": [],
   "source": [
    "# Definimos la funcion que queremos animar\n",
    "def f(x,t):\n",
    "    return np.cos(2*np.pi*x-2*np.pi*t)"
   ]
  },
  {
   "cell_type": "markdown",
   "metadata": {},
   "source": [
    "Hacemos la animacion"
   ]
  },
  {
   "cell_type": "code",
   "execution_count": 6,
   "metadata": {
    "scrolled": true
   },
   "outputs": [
    {
     "data": {
      "image/png": "[encoded data removed]",
      "text/plain": [
       "<matplotlib.figure.Figure at 0x7f1886c5d6a0>"
      ]
     },
     "metadata": {},
     "output_type": "display_data"
    }
   ],
   "source": [
    "anim = animar(f,x0=0,xf=2);"
   ]
  },
  {
   "cell_type": "markdown",
   "metadata": {},
   "source": [
    "## Ejemplo: Gaussiana con centro que se mueve\n",
    "$f(x,t) = e^{-(x-t)**2}$$"
   ]
  },
  {
   "cell_type": "code",
   "execution_count": 21,
   "metadata": {
    "collapsed": true
   },
   "outputs": [],
   "source": [
    "# Definimos la funcion que queremos animar\n",
    "def f(x,t):\n",
    "    return np.exp(-(x-(t-1))**2/0.1**2)"
   ]
  },
  {
   "cell_type": "markdown",
   "metadata": {},
   "source": [
    "Hacemos la animacion"
   ]
  },
  {
   "cell_type": "code",
   "execution_count": 22,
   "metadata": {
    "scrolled": true
   },
   "outputs": [],
   "source": [
    "anim = animar(f,x0=-1,xf=1,t0=0,tf=2);"
   ]
  },
  {
   "cell_type": "markdown",
   "metadata": {},
   "source": [
    "## Ejemplo: Oscilador armónico\n",
    "Como ultimo ejemplo vamos a mostrar como construir las autofunciones del oscilador armonico unidimensional con `sympy`, convertirlas en una función para python y graficarla."
   ]
  },
  {
   "cell_type": "markdown",
   "metadata": {},
   "source": [
    "Comenzamos definiendo las autofunciones del oscilador armonico."
   ]
  },
  {
   "cell_type": "code",
   "execution_count": 23,
   "metadata": {
    "collapsed": true
   },
   "outputs": [],
   "source": [
    "# Importamos sympy\n",
    "import sympy as sy\n",
    "sy.init_printing()"
   ]
  },
  {
   "cell_type": "code",
   "execution_count": 24,
   "metadata": {
    "collapsed": true
   },
   "outputs": [],
   "source": [
    "# Definimos las funciones phi(n,x)\n",
    "x = sy.symbols('x', real=True)\n",
    "t = sy.symbols('t', real=True)\n",
    "n = sy.symbols('n', integer=True)\n",
    "def phi(n,x):\n",
    "    arg = 2**n*sy.gamma(n+1)*sy.sqrt(sy.pi)\n",
    "    psi = 1/sy.sqrt(arg) * sy.exp(-x**2/2) * sy.hermite_poly(n, x)\n",
    "    return psi"
   ]
  },
  {
   "cell_type": "markdown",
   "metadata": {},
   "source": [
    "Movemos la autofuncion de n=0 a 0.5 y la guardamos como $f_0$"
   ]
  },
  {
   "cell_type": "code",
   "execution_count": 25,
   "metadata": {
    "collapsed": true
   },
   "outputs": [],
   "source": [
    "f0 = phi(0,x-0.5)"
   ]
  },
  {
   "cell_type": "markdown",
   "metadata": {},
   "source": [
    "Calculamos los primeros 5 coeficientes de $f_0$ en la base del oscilador armónico."
   ]
  },
  {
   "cell_type": "code",
   "execution_count": 26,
   "metadata": {
    "collapsed": true
   },
   "outputs": [],
   "source": [
    "N = 5\n",
    "a = np.zeros(N)\n",
    "for i in range(N):\n",
    "    an = sy.integrate(f0.conjugate()*phi(i,x),(x,-sy.oo,sy.oo))\n",
    "    a[i] = an.evalf()"
   ]
  },
  {
   "cell_type": "markdown",
   "metadata": {},
   "source": [
    "Vemos que está normalizada calculando la suma de los cuadrados."
   ]
  },
  {
   "cell_type": "code",
   "execution_count": 27,
   "metadata": {},
   "outputs": [
    {
     "data": {
      "image/png": "[encoded data removed]",
      "text/latex": [
       "$$0.999999770809$$"
      ],
      "text/plain": [
       "0.999999770809"
      ]
     },
     "execution_count": 27,
     "metadata": {},
     "output_type": "execute_result"
    }
   ],
   "source": [
    "sum(a**2)"
   ]
  },
  {
   "cell_type": "markdown",
   "metadata": {},
   "source": [
    "Definimos las energias como"
   ]
  },
  {
   "cell_type": "code",
   "execution_count": 28,
   "metadata": {
    "collapsed": true
   },
   "outputs": [],
   "source": [
    "def E(i):\n",
    "    return i+0.5"
   ]
  },
  {
   "cell_type": "markdown",
   "metadata": {},
   "source": [
    "Con todo lo anterior definimos la funcion a animar como\n",
    "\n",
    "$$ f(x,t) = \\sum a_n e^{-iE_n t} \\phi_n(x)$$"
   ]
  },
  {
   "cell_type": "code",
   "execution_count": 29,
   "metadata": {
    "collapsed": true
   },
   "outputs": [],
   "source": [
    "# Definimos la funcion que queremos animar\n",
    "fsy = 0\n",
    "for i in range(N):\n",
    "    temp = a[i]*sy.exp(sy.I*E(i)*t)*phi(i,x)\n",
    "    fsy = fsy + temp"
   ]
  },
  {
   "cell_type": "markdown",
   "metadata": {},
   "source": [
    "Calculamos con esto la probabilidad como el modulo cuadrado. Como la parte imaginaria es cero, nos quedamos solo con la parte real"
   ]
  },
  {
   "cell_type": "code",
   "execution_count": 30,
   "metadata": {},
   "outputs": [
    {
     "name": "stdout",
     "output_type": "stream",
     "text": [
      "0\n"
     ]
    }
   ],
   "source": [
    "p = fsy.conjugate()*fsy\n",
    "print(sy.im(p))\n",
    "p = sy.re(p)"
   ]
  },
  {
   "cell_type": "markdown",
   "metadata": {},
   "source": [
    "Usamos `lambdify` de `simpy` para convertir la función simbolica en numerica con el parametro `numpy` para poder usarla con arrays y la mostramos para t=0."
   ]
  },
  {
   "cell_type": "code",
   "execution_count": 31,
   "metadata": {
    "collapsed": true
   },
   "outputs": [],
   "source": [
    "f = sy.lambdify((x,t),p,'numpy')"
   ]
  },
  {
   "cell_type": "code",
   "execution_count": 32,
   "metadata": {},
   "outputs": [],
   "source": [
    "x = np.linspace(-3,3,100)\n",
    "plt.plot(x,f(x,0))\n",
    "plt.show()"
   ]
  },
  {
   "cell_type": "markdown",
   "metadata": {},
   "source": [
    "Hacemos la animacion"
   ]
  },
  {
   "cell_type": "code",
   "execution_count": 33,
   "metadata": {
    "scrolled": true
   },
   "outputs": [],
   "source": [
    "anim = animar(f,\\\n",
    "                x0=-3,xf=3,dx=0.01, \\\n",
    "                t0=0,tf=2*np.pi,dt=0.03,\\\n",
    "                ym=0,yM=0.6);"
   ]
  },
  {
   "cell_type": "markdown",
   "metadata": {},
   "source": [
    "## Guardado de animaciones\n",
    "\n",
    "En el caso que se quieran guardar las animaciones es necesario tener instalada la libreria ffmpeg en el sistema operativo. En ubuntu se instala como\n",
    "\n",
    "`sudo apt-get intall ffmpeg`\n",
    "\n",
    "Para guardar la animación hacemos\n",
    "\n",
    "`anim.save(\"nombre.mp4\")"
   ]
  },
  {
   "cell_type": "code",
   "execution_count": 34,
   "metadata": {},
   "outputs": [
    {
     "data": {
      "text/latex": [
       "$$\\begin{bmatrix}\\end{bmatrix}$$"
      ],
      "text/plain": [
       "[]"
      ]
     },
     "execution_count": 34,
     "metadata": {},
     "output_type": "execute_result"
    }
   ],
   "source": [
    "anim.save(\"paquete.mp4\")"
   ]
  }
 ],
 "metadata": {
  "kernelspec": {
   "display_name": "Python 3",
   "language": "python",
   "name": "python3"
  },
  "language_info": {
   "codemirror_mode": {
    "name": "ipython",
    "version": 3
   },
   "file_extension": ".py",
   "mimetype": "text/x-python",
   "name": "python",
   "nbconvert_exporter": "python",
   "pygments_lexer": "ipython3",
   "version": "3.5.2"
  }
 },
 "nbformat": 4,
 "nbformat_minor": 1
}
