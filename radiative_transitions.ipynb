{
 "cells": [
  {
   "cell_type": "code",
   "execution_count": 1,
   "metadata": {},
   "outputs": [],
   "source": [
    "# Calcula energias, frecuencias, longitudes de onda\n",
    "# a partir de las energias en Rydbergs\n",
    "\n",
    "import numpy as np\n",
    "\n",
    "h_bar = 6.58211899*10**-16 # En eV.s\n",
    "h_barJs = 1.054571628*10**-34 # En J.s\n",
    "e = -1.602176565*10**-19 # Carga del electron (C)\n",
    "m_e = 9.10938291*10**-31 # Masa del electron (Kg)\n",
    "eps_0 = 8.8541878176*10**-12 # Permitividad electrica del vacio\n",
    "Ry_ct = 13.6056923 # Constante de Rydberg\n",
    "c = 299792458 # Velocidad de la luz (m/s)\n",
    "r_bohr =  5.29*10**-11 # Radio de Bohr (m)"
   ]
  },
  {
   "cell_type": "code",
   "execution_count": 3,
   "metadata": {
    "scrolled": true
   },
   "outputs": [
    {
     "name": "stdout",
     "output_type": "stream",
     "text": [
      "E = -0.375 Ry\n",
      "E = -10.204269224999999 eV\n",
      "f = -2467.3815381743107 THz\n",
      "lambda = -121.50227006311533 nm\n"
     ]
    }
   ],
   "source": [
    "Z = 1\n",
    "n1 = 2 # Nivel inicial\n",
    "n2 = 1 # Nivel final\n",
    "\n",
    "E_Ry = -Z**2 / (2*n2**2) - ( -Z**2 / (2*n1**2) )\n",
    "\n",
    "E_eV = 2*E_Ry*Ry_ct\n",
    "\n",
    "# Frecuencia\n",
    "f = E_eV/(2*np.pi*h_bar)\n",
    "\n",
    "# Longitud de onda\n",
    "lamb = c/f\n",
    "\n",
    "print ('E =',E_Ry,'Ry')\n",
    "print ('E =',E_eV,'eV')\n",
    "print ('f =',f*10**-12,'THz')\n",
    "print ('lambda =',lamb*10**9,'nm')"
   ]
  },
  {
   "cell_type": "markdown",
   "metadata": {},
   "source": [
    "## Coeficientes de Einstein\n",
    "\n",
    "$ W^s_{ab} = \\cfrac{4}{3c^2}\\alpha \\omega^3_{ba} \\vert r_{ba}\\vert ^2 $\n",
    "\n",
    "$ \\alpha = \\cfrac{e^2}{4\\pi \\epsilon_0 \\hbar c}\\sim \\cfrac{1}{137} $"
   ]
  },
  {
   "cell_type": "code",
   "execution_count": 4,
   "metadata": {},
   "outputs": [
    {
     "name": "stdout",
     "output_type": "stream",
     "text": [
      "A(EK)*SEC =  -6.264118579035498 10^8 1/s\n",
      "Tiempo decaimiento 2p -> 1s para el Hidrogeno:  1.5963937900964391 ns\n"
     ]
    }
   ],
   "source": [
    "# Coeficiente de Einstein\n",
    "# El de Autostructure da -6.268E+08 (1/s) para la transicion 2p -> 1s del Hidrogeno (H)\n",
    "\n",
    "omega = 2*np.pi*f\n",
    "alpha = e**2 /(4*np.pi*eps_0*h_barJs*c) # Constante de estructura fina\n",
    "\n",
    "W = (2**7 *np.sqrt(2)/(Z* 3**5))**2 *r_bohr**2 *4*omega**3 *alpha / (3*c**2)\n",
    "print('A(EK)*SEC = ',W*10**-8,'10^8 1/s')\n",
    "print('Tiempo decaimiento 2p -> 1s para el Hidrogeno: ',10**9 *abs(1/W),'ns')"
   ]
  },
  {
   "cell_type": "code",
   "execution_count": 93,
   "metadata": {},
   "outputs": [
    {
     "name": "stdout",
     "output_type": "stream",
     "text": [
      "A(EK)*SEC =  -1.9492032725910458 10^15 1/s\n",
      "Tiempo decaimiento 2p -> 1s para el Molibdeno (Mo 41+):  5.130301257245047e-07 ns\n"
     ]
    }
   ],
   "source": [
    "# Coeficiente de Einstein\n",
    "# El de Autostructure da -1.951E+15 (1/s) para la transicion 2p -> 1s del Molibdeno (Mo 41+)\n",
    "\n",
    "omega = 2*np.pi*f\n",
    "alpha = e**2 /(4*np.pi*eps_0*h_barJs*c) # Constante de estructura fina\n",
    "\n",
    "W = (2**7 *np.sqrt(2)/(Z* 3**5))**2 *r_bohr**2 *4*omega**3 *alpha / (3*c**2)\n",
    "print('A(EK)*SEC = ',W*10**-15,'10^15 1/s')\n",
    "print('Tiempo decaimiento 2p -> 1s para el Molibdeno (Mo 41+): ',10**9 *abs(1/W),'ns')"
   ]
  },
  {
   "cell_type": "markdown",
   "metadata": {},
   "source": [
    "## Oscilator Strength\n",
    "\n",
    "$ f_{ka}=\\cfrac{2 m\\omega_{ka}}{3\\hbar}\\vert r_{ka}\\vert ^2 $\n",
    "\n",
    "## Regla de Thomas, Reiche y Kuhn\n",
    "\n",
    "$ \\sum_k f_{ka}=1 $\n",
    "\n",
    "$ W^s_{ka}=\\cfrac{2 \\omega^2_{ka}}{mc^3} \\bigg( \\cfrac{e^2}{4\\pi\\epsilon_0} \\bigg) \\lvert f_{ka}\\lvert $"
   ]
  },
  {
   "cell_type": "code",
   "execution_count": 5,
   "metadata": {},
   "outputs": [
    {
     "name": "stdout",
     "output_type": "stream",
     "text": [
      "f =  -0.1386393542651262\n",
      "A(EK)*SEC =  -6.264118579035498 10^8 1/s\n"
     ]
    }
   ],
   "source": [
    "omega = 2*np.pi*f\n",
    "\n",
    "f = 2*m_e*omega*(2**7 *np.sqrt(2)/(Z* 3**5))**2 *r_bohr**2 / (3*h_barJs)\n",
    "print('f = ',f)\n",
    "\n",
    "W = 2*omega**2 *e**2 *f / (m_e* c**3 *4*np.pi*eps_0)\n",
    "print('A(EK)*SEC = ',W*10**-8,'10^8 1/s')"
   ]
  },
  {
   "cell_type": "code",
   "execution_count": null,
   "metadata": {},
   "outputs": [],
   "source": []
  }
 ],
 "metadata": {
  "kernelspec": {
   "display_name": "Python 3",
   "language": "python",
   "name": "python3"
  },
  "language_info": {
   "codemirror_mode": {
    "name": "ipython",
    "version": 3
   },
   "file_extension": ".py",
   "mimetype": "text/x-python",
   "name": "python",
   "nbconvert_exporter": "python",
   "pygments_lexer": "ipython3",
   "version": "3.5.2"
  }
 },
 "nbformat": 4,
 "nbformat_minor": 2
}
