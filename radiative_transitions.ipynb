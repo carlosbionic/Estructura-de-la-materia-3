{
 "cells": [
  {
   "cell_type": "code",
   "execution_count": 34,
   "metadata": {},
   "outputs": [
    {
     "name": "stdout",
     "output_type": "stream",
     "text": [
      "E = -0.375 Ry\n",
      "E = -10.204269224999999 eV\n",
      "f = -2467.3815381743107 THz\n",
      "lambda = -121.50227006311533 nm\n"
     ]
    }
   ],
   "source": [
    "# Calcula energias, frecuencias, longitudes de onda\n",
    "# a partir de las energias en Rydbergs\n",
    "\n",
    "# Tomemos como ejemplo el Hidrogeno\n",
    "\n",
    "import numpy as np\n",
    "\n",
    "h_bar = 6.58211899*10**-16 # En eV.s\n",
    "Ry_ct = 13.6056923\n",
    "c = 299792458 # En m/s\n",
    "\n",
    "Z = 1\n",
    "n1 = 2 # Nivel inicial\n",
    "n2 = 1 # Nivel final\n",
    "\n",
    "E_Ry = -Z**2 / (2*n2**2) - ( -Z**2 / (2*n1**2) )\n",
    "\n",
    "E_eV = 2*E_Ry*Ry_ct\n",
    "\n",
    "# Frecuencia\n",
    "f = E_eV/(2*np.pi*h_bar)\n",
    "\n",
    "# Longitud de onda\n",
    "lamb = c/f\n",
    "\n",
    "print ('E =',E_Ry,'Ry')\n",
    "print ('E =',E_eV,'eV')\n",
    "print ('f =',f*10**-12,'THz')\n",
    "print ('lambda =',lamb*10**9,'nm')"
   ]
  },
  {
   "cell_type": "code",
   "execution_count": null,
   "metadata": {},
   "outputs": [],
   "source": [
    "# Coeficiente de Einstein"
   ]
  }
 ],
 "metadata": {
  "kernelspec": {
   "display_name": "Python 3",
   "language": "python",
   "name": "python3"
  },
  "language_info": {
   "codemirror_mode": {
    "name": "ipython",
    "version": 3
   },
   "file_extension": ".py",
   "mimetype": "text/x-python",
   "name": "python",
   "nbconvert_exporter": "python",
   "pygments_lexer": "ipython3",
   "version": "3.5.2"
  }
 },
 "nbformat": 4,
 "nbformat_minor": 2
}
