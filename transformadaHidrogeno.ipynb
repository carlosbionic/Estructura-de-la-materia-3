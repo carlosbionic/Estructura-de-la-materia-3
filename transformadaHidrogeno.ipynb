{
 "cells": [
  {
   "cell_type": "markdown",
   "metadata": {},
   "source": [
    "# Transformada de Fourier de Funciones Hidrogénicas\n",
    "\n",
    "Darío Mitnik\n"
   ]
  },
  {
   "cell_type": "code",
   "execution_count": 68,
   "metadata": {},
   "outputs": [],
   "source": [
    "import time\n",
    "from sympy import *\n",
    "init_printing()\n",
    "\n",
    "#Definimos todos los parametros que vamos a usar, darle informacion extra \n",
    "#como que es real, o positivo, ayuda a la hora de integral\n",
    "r=Symbol('r',positive=True)\n",
    "theta=Symbol('theta',positive=True)\n",
    "z=Symbol('z',integrer=True,positive=True)\n",
    "t=Symbol('t',positive=True)\n",
    "k=Symbol('k',positive=True)\n"
   ]
  },
  {
   "cell_type": "code",
   "execution_count": 69,
   "metadata": {},
   "outputs": [],
   "source": [
    "# Definición de las funciones de onda Hidrogénicas\n",
    "R1s=2*z**(3./2)*exp(-z*r)\n",
    "R2s=z**(3./2)*exp(-z*r/2)/sqrt(8)*(2-z*r)\n",
    "R2p=2*z**(5./2)*exp(-z*r/2)/sqrt(24)*r\n",
    "V=-z/r"
   ]
  },
  {
   "cell_type": "markdown",
   "metadata": {},
   "source": [
    "La integral que queremos resolver es\n",
    "\n",
    "\\begin{equation}  \n",
    "\\tilde{\\phi}_{n_i,l_i,m_i}(\\vec{k})=\\int Y_{l_i}^{m_i}(\\hat{r}) \\, R_{n_il_i}(r) \n",
    "\\, e^{-i\\vec{r}\\vec{k}} d\\vec{r} \\, \n",
    "\\end{equation}\n",
    "\n",
    "En la exponencial aparece el ángulo entre  $\\vec{k}$  y $\\vec{r}$  (no es el mismo que el ángulo entre $\\vec{z}$  y $\\vec{r}$)\n"
   ]
  },
  {
   "cell_type": "code",
   "execution_count": 70,
   "metadata": {},
   "outputs": [
    {
     "ename": "KeyboardInterrupt",
     "evalue": "",
     "output_type": "error",
     "traceback": [
      "\u001b[0;31m---------------------------------------------------------------------------\u001b[0m",
      "\u001b[0;31mKeyboardInterrupt\u001b[0m                         Traceback (most recent call last)",
      "\u001b[0;32m<ipython-input-70-9f24852a0e7c>\u001b[0m in \u001b[0;36m<module>\u001b[0;34m()\u001b[0m\n\u001b[1;32m      3\u001b[0m \u001b[0mtic\u001b[0m\u001b[0;34m=\u001b[0m\u001b[0mtime\u001b[0m\u001b[0;34m.\u001b[0m\u001b[0mclock\u001b[0m\u001b[0;34m(\u001b[0m\u001b[0;34m)\u001b[0m\u001b[0;34m\u001b[0m\u001b[0m\n\u001b[1;32m      4\u001b[0m \u001b[0;31m#T_1s_mal=integrate(2*pi/sqrt(4*pi)*R1s*r**2*sin(theta)*exp(-I*k*r*cos(theta)), (theta,0,pi),(r,0,oo))\u001b[0m\u001b[0;34m\u001b[0m\u001b[0;34m\u001b[0m\u001b[0m\n\u001b[0;32m----> 5\u001b[0;31m \u001b[0mT_1s_mal\u001b[0m\u001b[0;34m=\u001b[0m\u001b[0mintegrate\u001b[0m\u001b[0;34m(\u001b[0m\u001b[0mexp\u001b[0m\u001b[0;34m(\u001b[0m\u001b[0;34m-\u001b[0m\u001b[0mI\u001b[0m\u001b[0;34m*\u001b[0m\u001b[0mk\u001b[0m\u001b[0;34m*\u001b[0m\u001b[0mr\u001b[0m\u001b[0;34m*\u001b[0m\u001b[0mcos\u001b[0m\u001b[0;34m(\u001b[0m\u001b[0mtheta\u001b[0m\u001b[0;34m)\u001b[0m\u001b[0;34m)\u001b[0m\u001b[0;34m,\u001b[0m \u001b[0;34m(\u001b[0m\u001b[0mtheta\u001b[0m\u001b[0;34m,\u001b[0m\u001b[0;36m0\u001b[0m\u001b[0;34m,\u001b[0m\u001b[0mpi\u001b[0m\u001b[0;34m)\u001b[0m\u001b[0;34m,\u001b[0m\u001b[0;34m(\u001b[0m\u001b[0mr\u001b[0m\u001b[0;34m,\u001b[0m\u001b[0;36m0\u001b[0m\u001b[0;34m,\u001b[0m\u001b[0moo\u001b[0m\u001b[0;34m)\u001b[0m\u001b[0;34m)\u001b[0m\u001b[0;34m\u001b[0m\u001b[0m\n\u001b[0m\u001b[1;32m      6\u001b[0m \u001b[0;34m\u001b[0m\u001b[0m\n\u001b[1;32m      7\u001b[0m \u001b[0mtime\u001b[0m\u001b[0;34m.\u001b[0m\u001b[0mclock\u001b[0m\u001b[0;34m(\u001b[0m\u001b[0;34m)\u001b[0m\u001b[0;34m-\u001b[0m\u001b[0mtic\u001b[0m\u001b[0;34m,\u001b[0m\u001b[0mfactor\u001b[0m\u001b[0;34m(\u001b[0m\u001b[0msimplify\u001b[0m\u001b[0;34m(\u001b[0m\u001b[0mT_1s_mal\u001b[0m\u001b[0;34m)\u001b[0m\u001b[0;34m)\u001b[0m\u001b[0;34m\u001b[0m\u001b[0m\n",
      "\u001b[0;32m~/.local/lib/python3.5/site-packages/sympy/integrals/integrals.py\u001b[0m in \u001b[0;36mintegrate\u001b[0;34m(*args, **kwargs)\u001b[0m\n\u001b[1;32m   1293\u001b[0m     \u001b[0;32mif\u001b[0m \u001b[0misinstance\u001b[0m\u001b[0;34m(\u001b[0m\u001b[0mintegral\u001b[0m\u001b[0;34m,\u001b[0m \u001b[0mIntegral\u001b[0m\u001b[0;34m)\u001b[0m\u001b[0;34m:\u001b[0m\u001b[0;34m\u001b[0m\u001b[0m\n\u001b[1;32m   1294\u001b[0m         return integral.doit(deep=False, meijerg=meijerg, conds=conds,\n\u001b[0;32m-> 1295\u001b[0;31m                              risch=risch, manual=manual)\n\u001b[0m\u001b[1;32m   1296\u001b[0m     \u001b[0;32melse\u001b[0m\u001b[0;34m:\u001b[0m\u001b[0;34m\u001b[0m\u001b[0m\n\u001b[1;32m   1297\u001b[0m         \u001b[0;32mreturn\u001b[0m \u001b[0mintegral\u001b[0m\u001b[0;34m\u001b[0m\u001b[0m\n",
      "\u001b[0;32m~/.local/lib/python3.5/site-packages/sympy/integrals/integrals.py\u001b[0m in \u001b[0;36mdoit\u001b[0;34m(self, **hints)\u001b[0m\n\u001b[1;32m    484\u001b[0m                     \u001b[0mfunction\u001b[0m\u001b[0;34m,\u001b[0m \u001b[0mxab\u001b[0m\u001b[0;34m[\u001b[0m\u001b[0;36m0\u001b[0m\u001b[0;34m]\u001b[0m\u001b[0;34m,\u001b[0m\u001b[0;34m\u001b[0m\u001b[0m\n\u001b[1;32m    485\u001b[0m                     \u001b[0mmeijerg\u001b[0m\u001b[0;34m=\u001b[0m\u001b[0mmeijerg1\u001b[0m\u001b[0;34m,\u001b[0m \u001b[0mrisch\u001b[0m\u001b[0;34m=\u001b[0m\u001b[0mrisch\u001b[0m\u001b[0;34m,\u001b[0m \u001b[0mmanual\u001b[0m\u001b[0;34m=\u001b[0m\u001b[0mmanual\u001b[0m\u001b[0;34m,\u001b[0m\u001b[0;34m\u001b[0m\u001b[0m\n\u001b[0;32m--> 486\u001b[0;31m                     conds=conds)\n\u001b[0m\u001b[1;32m    487\u001b[0m                 \u001b[0;32mif\u001b[0m \u001b[0mantideriv\u001b[0m \u001b[0;32mis\u001b[0m \u001b[0;32mNone\u001b[0m \u001b[0;32mand\u001b[0m \u001b[0mmeijerg1\u001b[0m \u001b[0;32mis\u001b[0m \u001b[0;32mTrue\u001b[0m\u001b[0;34m:\u001b[0m\u001b[0;34m\u001b[0m\u001b[0m\n\u001b[1;32m    488\u001b[0m                     \u001b[0mret\u001b[0m \u001b[0;34m=\u001b[0m \u001b[0mtry_meijerg\u001b[0m\u001b[0;34m(\u001b[0m\u001b[0mfunction\u001b[0m\u001b[0;34m,\u001b[0m \u001b[0mxab\u001b[0m\u001b[0;34m)\u001b[0m\u001b[0;34m\u001b[0m\u001b[0m\n",
      "\u001b[0;32m~/.local/lib/python3.5/site-packages/sympy/integrals/integrals.py\u001b[0m in \u001b[0;36m_eval_integral\u001b[0;34m(self, f, x, meijerg, risch, manual, conds)\u001b[0m\n\u001b[1;32m    892\u001b[0m                 \u001b[0;32mtry\u001b[0m\u001b[0;34m:\u001b[0m\u001b[0;34m\u001b[0m\u001b[0m\n\u001b[1;32m    893\u001b[0m                     \u001b[0;32mif\u001b[0m \u001b[0mconds\u001b[0m \u001b[0;34m==\u001b[0m \u001b[0;34m'piecewise'\u001b[0m\u001b[0;34m:\u001b[0m\u001b[0;34m\u001b[0m\u001b[0m\n\u001b[0;32m--> 894\u001b[0;31m                         \u001b[0mh\u001b[0m \u001b[0;34m=\u001b[0m \u001b[0mheurisch_wrapper\u001b[0m\u001b[0;34m(\u001b[0m\u001b[0mg\u001b[0m\u001b[0;34m,\u001b[0m \u001b[0mx\u001b[0m\u001b[0;34m,\u001b[0m \u001b[0mhints\u001b[0m\u001b[0;34m=\u001b[0m\u001b[0;34m[\u001b[0m\u001b[0;34m]\u001b[0m\u001b[0;34m)\u001b[0m\u001b[0;34m\u001b[0m\u001b[0m\n\u001b[0m\u001b[1;32m    895\u001b[0m                     \u001b[0;32melse\u001b[0m\u001b[0;34m:\u001b[0m\u001b[0;34m\u001b[0m\u001b[0m\n\u001b[1;32m    896\u001b[0m                         \u001b[0mh\u001b[0m \u001b[0;34m=\u001b[0m \u001b[0mheurisch\u001b[0m\u001b[0;34m(\u001b[0m\u001b[0mg\u001b[0m\u001b[0;34m,\u001b[0m \u001b[0mx\u001b[0m\u001b[0;34m,\u001b[0m \u001b[0mhints\u001b[0m\u001b[0;34m=\u001b[0m\u001b[0;34m[\u001b[0m\u001b[0;34m]\u001b[0m\u001b[0;34m)\u001b[0m\u001b[0;34m\u001b[0m\u001b[0m\n",
      "\u001b[0;32m~/.local/lib/python3.5/site-packages/sympy/integrals/heurisch.py\u001b[0m in \u001b[0;36mheurisch_wrapper\u001b[0;34m(f, x, rewrite, hints, mappings, retries, degree_offset, unnecessary_permutations)\u001b[0m\n\u001b[1;32m    128\u001b[0m \u001b[0;34m\u001b[0m\u001b[0m\n\u001b[1;32m    129\u001b[0m     res = heurisch(f, x, rewrite, hints, mappings, retries, degree_offset,\n\u001b[0;32m--> 130\u001b[0;31m                    unnecessary_permutations)\n\u001b[0m\u001b[1;32m    131\u001b[0m     \u001b[0;32mif\u001b[0m \u001b[0;32mnot\u001b[0m \u001b[0misinstance\u001b[0m\u001b[0;34m(\u001b[0m\u001b[0mres\u001b[0m\u001b[0;34m,\u001b[0m \u001b[0mBasic\u001b[0m\u001b[0;34m)\u001b[0m\u001b[0;34m:\u001b[0m\u001b[0;34m\u001b[0m\u001b[0m\n\u001b[1;32m    132\u001b[0m         \u001b[0;32mreturn\u001b[0m \u001b[0mres\u001b[0m\u001b[0;34m\u001b[0m\u001b[0m\n",
      "\u001b[0;32m~/.local/lib/python3.5/site-packages/sympy/integrals/heurisch.py\u001b[0m in \u001b[0;36mheurisch\u001b[0;34m(f, x, rewrite, hints, mappings, retries, degree_offset, unnecessary_permutations)\u001b[0m\n\u001b[1;32m    673\u001b[0m     \u001b[0;32melse\u001b[0m\u001b[0;34m:\u001b[0m\u001b[0;34m\u001b[0m\u001b[0m\n\u001b[1;32m    674\u001b[0m         \u001b[0;32mif\u001b[0m \u001b[0mretries\u001b[0m \u001b[0;34m>=\u001b[0m \u001b[0;36m0\u001b[0m\u001b[0;34m:\u001b[0m\u001b[0;34m\u001b[0m\u001b[0m\n\u001b[0;32m--> 675\u001b[0;31m             \u001b[0mresult\u001b[0m \u001b[0;34m=\u001b[0m \u001b[0mheurisch\u001b[0m\u001b[0;34m(\u001b[0m\u001b[0mf\u001b[0m\u001b[0;34m,\u001b[0m \u001b[0mx\u001b[0m\u001b[0;34m,\u001b[0m \u001b[0mmappings\u001b[0m\u001b[0;34m=\u001b[0m\u001b[0mmappings\u001b[0m\u001b[0;34m,\u001b[0m \u001b[0mrewrite\u001b[0m\u001b[0;34m=\u001b[0m\u001b[0mrewrite\u001b[0m\u001b[0;34m,\u001b[0m \u001b[0mhints\u001b[0m\u001b[0;34m=\u001b[0m\u001b[0mhints\u001b[0m\u001b[0;34m,\u001b[0m \u001b[0mretries\u001b[0m\u001b[0;34m=\u001b[0m\u001b[0mretries\u001b[0m \u001b[0;34m-\u001b[0m \u001b[0;36m1\u001b[0m\u001b[0;34m,\u001b[0m \u001b[0munnecessary_permutations\u001b[0m\u001b[0;34m=\u001b[0m\u001b[0munnecessary_permutations\u001b[0m\u001b[0;34m)\u001b[0m\u001b[0;34m\u001b[0m\u001b[0m\n\u001b[0m\u001b[1;32m    676\u001b[0m \u001b[0;34m\u001b[0m\u001b[0m\n\u001b[1;32m    677\u001b[0m             \u001b[0;32mif\u001b[0m \u001b[0mresult\u001b[0m \u001b[0;32mis\u001b[0m \u001b[0;32mnot\u001b[0m \u001b[0;32mNone\u001b[0m\u001b[0;34m:\u001b[0m\u001b[0;34m\u001b[0m\u001b[0m\n",
      "\u001b[0;32m~/.local/lib/python3.5/site-packages/sympy/integrals/heurisch.py\u001b[0m in \u001b[0;36mheurisch\u001b[0;34m(f, x, rewrite, hints, mappings, retries, degree_offset, unnecessary_permutations)\u001b[0m\n\u001b[1;32m    673\u001b[0m     \u001b[0;32melse\u001b[0m\u001b[0;34m:\u001b[0m\u001b[0;34m\u001b[0m\u001b[0m\n\u001b[1;32m    674\u001b[0m         \u001b[0;32mif\u001b[0m \u001b[0mretries\u001b[0m \u001b[0;34m>=\u001b[0m \u001b[0;36m0\u001b[0m\u001b[0;34m:\u001b[0m\u001b[0;34m\u001b[0m\u001b[0m\n\u001b[0;32m--> 675\u001b[0;31m             \u001b[0mresult\u001b[0m \u001b[0;34m=\u001b[0m \u001b[0mheurisch\u001b[0m\u001b[0;34m(\u001b[0m\u001b[0mf\u001b[0m\u001b[0;34m,\u001b[0m \u001b[0mx\u001b[0m\u001b[0;34m,\u001b[0m \u001b[0mmappings\u001b[0m\u001b[0;34m=\u001b[0m\u001b[0mmappings\u001b[0m\u001b[0;34m,\u001b[0m \u001b[0mrewrite\u001b[0m\u001b[0;34m=\u001b[0m\u001b[0mrewrite\u001b[0m\u001b[0;34m,\u001b[0m \u001b[0mhints\u001b[0m\u001b[0;34m=\u001b[0m\u001b[0mhints\u001b[0m\u001b[0;34m,\u001b[0m \u001b[0mretries\u001b[0m\u001b[0;34m=\u001b[0m\u001b[0mretries\u001b[0m \u001b[0;34m-\u001b[0m \u001b[0;36m1\u001b[0m\u001b[0;34m,\u001b[0m \u001b[0munnecessary_permutations\u001b[0m\u001b[0;34m=\u001b[0m\u001b[0munnecessary_permutations\u001b[0m\u001b[0;34m)\u001b[0m\u001b[0;34m\u001b[0m\u001b[0m\n\u001b[0m\u001b[1;32m    676\u001b[0m \u001b[0;34m\u001b[0m\u001b[0m\n\u001b[1;32m    677\u001b[0m             \u001b[0;32mif\u001b[0m \u001b[0mresult\u001b[0m \u001b[0;32mis\u001b[0m \u001b[0;32mnot\u001b[0m \u001b[0;32mNone\u001b[0m\u001b[0;34m:\u001b[0m\u001b[0;34m\u001b[0m\u001b[0m\n",
      "\u001b[0;32m~/.local/lib/python3.5/site-packages/sympy/integrals/heurisch.py\u001b[0m in \u001b[0;36mheurisch\u001b[0;34m(f, x, rewrite, hints, mappings, retries, degree_offset, unnecessary_permutations)\u001b[0m\n\u001b[1;32m    673\u001b[0m     \u001b[0;32melse\u001b[0m\u001b[0;34m:\u001b[0m\u001b[0;34m\u001b[0m\u001b[0m\n\u001b[1;32m    674\u001b[0m         \u001b[0;32mif\u001b[0m \u001b[0mretries\u001b[0m \u001b[0;34m>=\u001b[0m \u001b[0;36m0\u001b[0m\u001b[0;34m:\u001b[0m\u001b[0;34m\u001b[0m\u001b[0m\n\u001b[0;32m--> 675\u001b[0;31m             \u001b[0mresult\u001b[0m \u001b[0;34m=\u001b[0m \u001b[0mheurisch\u001b[0m\u001b[0;34m(\u001b[0m\u001b[0mf\u001b[0m\u001b[0;34m,\u001b[0m \u001b[0mx\u001b[0m\u001b[0;34m,\u001b[0m \u001b[0mmappings\u001b[0m\u001b[0;34m=\u001b[0m\u001b[0mmappings\u001b[0m\u001b[0;34m,\u001b[0m \u001b[0mrewrite\u001b[0m\u001b[0;34m=\u001b[0m\u001b[0mrewrite\u001b[0m\u001b[0;34m,\u001b[0m \u001b[0mhints\u001b[0m\u001b[0;34m=\u001b[0m\u001b[0mhints\u001b[0m\u001b[0;34m,\u001b[0m \u001b[0mretries\u001b[0m\u001b[0;34m=\u001b[0m\u001b[0mretries\u001b[0m \u001b[0;34m-\u001b[0m \u001b[0;36m1\u001b[0m\u001b[0;34m,\u001b[0m \u001b[0munnecessary_permutations\u001b[0m\u001b[0;34m=\u001b[0m\u001b[0munnecessary_permutations\u001b[0m\u001b[0;34m)\u001b[0m\u001b[0;34m\u001b[0m\u001b[0m\n\u001b[0m\u001b[1;32m    676\u001b[0m \u001b[0;34m\u001b[0m\u001b[0m\n\u001b[1;32m    677\u001b[0m             \u001b[0;32mif\u001b[0m \u001b[0mresult\u001b[0m \u001b[0;32mis\u001b[0m \u001b[0;32mnot\u001b[0m \u001b[0;32mNone\u001b[0m\u001b[0;34m:\u001b[0m\u001b[0;34m\u001b[0m\u001b[0m\n",
      "\u001b[0;32m~/.local/lib/python3.5/site-packages/sympy/integrals/heurisch.py\u001b[0m in \u001b[0;36mheurisch\u001b[0;34m(f, x, rewrite, hints, mappings, retries, degree_offset, unnecessary_permutations)\u001b[0m\n\u001b[1;32m    459\u001b[0m         \u001b[0;32mif\u001b[0m \u001b[0;32mnot\u001b[0m \u001b[0mrewrite\u001b[0m\u001b[0;34m:\u001b[0m\u001b[0;34m\u001b[0m\u001b[0m\n\u001b[1;32m    460\u001b[0m             result = heurisch(f, x, rewrite=True, hints=hints,\n\u001b[0;32m--> 461\u001b[0;31m                 unnecessary_permutations=unnecessary_permutations)\n\u001b[0m\u001b[1;32m    462\u001b[0m \u001b[0;34m\u001b[0m\u001b[0m\n\u001b[1;32m    463\u001b[0m             \u001b[0;32mif\u001b[0m \u001b[0mresult\u001b[0m \u001b[0;32mis\u001b[0m \u001b[0;32mnot\u001b[0m \u001b[0;32mNone\u001b[0m\u001b[0;34m:\u001b[0m\u001b[0;34m\u001b[0m\u001b[0m\n",
      "\u001b[0;32m~/.local/lib/python3.5/site-packages/sympy/integrals/heurisch.py\u001b[0m in \u001b[0;36mheurisch\u001b[0;34m(f, x, rewrite, hints, mappings, retries, degree_offset, unnecessary_permutations)\u001b[0m\n\u001b[1;32m    656\u001b[0m \u001b[0;34m\u001b[0m\u001b[0m\n\u001b[1;32m    657\u001b[0m     \u001b[0;32mif\u001b[0m \u001b[0;32mnot\u001b[0m \u001b[0;34m(\u001b[0m\u001b[0mF\u001b[0m\u001b[0;34m.\u001b[0m\u001b[0mfree_symbols\u001b[0m \u001b[0;34m-\u001b[0m \u001b[0mset\u001b[0m\u001b[0;34m(\u001b[0m\u001b[0mV\u001b[0m\u001b[0;34m)\u001b[0m\u001b[0;34m)\u001b[0m\u001b[0;34m:\u001b[0m\u001b[0;34m\u001b[0m\u001b[0m\n\u001b[0;32m--> 658\u001b[0;31m         \u001b[0msolution\u001b[0m \u001b[0;34m=\u001b[0m \u001b[0m_integrate\u001b[0m\u001b[0;34m(\u001b[0m\u001b[0;34m'Q'\u001b[0m\u001b[0;34m)\u001b[0m\u001b[0;34m\u001b[0m\u001b[0m\n\u001b[0m\u001b[1;32m    659\u001b[0m \u001b[0;34m\u001b[0m\u001b[0m\n\u001b[1;32m    660\u001b[0m         \u001b[0;32mif\u001b[0m \u001b[0msolution\u001b[0m \u001b[0;32mis\u001b[0m \u001b[0;32mNone\u001b[0m\u001b[0;34m:\u001b[0m\u001b[0;34m\u001b[0m\u001b[0m\n",
      "\u001b[0;32m~/.local/lib/python3.5/site-packages/sympy/integrals/heurisch.py\u001b[0m in \u001b[0;36m_integrate\u001b[0;34m(field)\u001b[0m\n\u001b[1;32m    635\u001b[0m \u001b[0;34m\u001b[0m\u001b[0m\n\u001b[1;32m    636\u001b[0m         \u001b[0;32mtry\u001b[0m\u001b[0;34m:\u001b[0m\u001b[0;34m\u001b[0m\u001b[0m\n\u001b[0;32m--> 637\u001b[0;31m             \u001b[0mfind_non_syms\u001b[0m\u001b[0;34m(\u001b[0m\u001b[0mraw_numer\u001b[0m\u001b[0;34m)\u001b[0m\u001b[0;34m\u001b[0m\u001b[0m\n\u001b[0m\u001b[1;32m    638\u001b[0m         \u001b[0;32mexcept\u001b[0m \u001b[0mPolynomialError\u001b[0m\u001b[0;34m:\u001b[0m\u001b[0;34m\u001b[0m\u001b[0m\n\u001b[1;32m    639\u001b[0m             \u001b[0;32mreturn\u001b[0m \u001b[0;32mNone\u001b[0m\u001b[0;34m\u001b[0m\u001b[0m\n",
      "\u001b[0;32m~/.local/lib/python3.5/site-packages/sympy/integrals/heurisch.py\u001b[0m in \u001b[0;36mfind_non_syms\u001b[0;34m(expr)\u001b[0m\n\u001b[1;32m    628\u001b[0m                 \u001b[0mnon_syms\u001b[0m\u001b[0;34m.\u001b[0m\u001b[0madd\u001b[0m\u001b[0;34m(\u001b[0m\u001b[0mexpr\u001b[0m\u001b[0;34m)\u001b[0m\u001b[0;34m\u001b[0m\u001b[0m\n\u001b[1;32m    629\u001b[0m             \u001b[0;32melif\u001b[0m \u001b[0mexpr\u001b[0m\u001b[0;34m.\u001b[0m\u001b[0mis_Add\u001b[0m \u001b[0;32mor\u001b[0m \u001b[0mexpr\u001b[0m\u001b[0;34m.\u001b[0m\u001b[0mis_Mul\u001b[0m \u001b[0;32mor\u001b[0m \u001b[0mexpr\u001b[0m\u001b[0;34m.\u001b[0m\u001b[0mis_Pow\u001b[0m\u001b[0;34m:\u001b[0m\u001b[0;34m\u001b[0m\u001b[0m\n\u001b[0;32m--> 630\u001b[0;31m                 \u001b[0mlist\u001b[0m\u001b[0;34m(\u001b[0m\u001b[0mmap\u001b[0m\u001b[0;34m(\u001b[0m\u001b[0mfind_non_syms\u001b[0m\u001b[0;34m,\u001b[0m \u001b[0mexpr\u001b[0m\u001b[0;34m.\u001b[0m\u001b[0margs\u001b[0m\u001b[0;34m)\u001b[0m\u001b[0;34m)\u001b[0m\u001b[0;34m\u001b[0m\u001b[0m\n\u001b[0m\u001b[1;32m    631\u001b[0m             \u001b[0;32melse\u001b[0m\u001b[0;34m:\u001b[0m\u001b[0;34m\u001b[0m\u001b[0m\n\u001b[1;32m    632\u001b[0m                 \u001b[0;31m# TODO: Non-polynomial expression. This should have been\u001b[0m\u001b[0;34m\u001b[0m\u001b[0;34m\u001b[0m\u001b[0m\n",
      "\u001b[0;32m~/.local/lib/python3.5/site-packages/sympy/integrals/heurisch.py\u001b[0m in \u001b[0;36mfind_non_syms\u001b[0;34m(expr)\u001b[0m\n\u001b[1;32m    628\u001b[0m                 \u001b[0mnon_syms\u001b[0m\u001b[0;34m.\u001b[0m\u001b[0madd\u001b[0m\u001b[0;34m(\u001b[0m\u001b[0mexpr\u001b[0m\u001b[0;34m)\u001b[0m\u001b[0;34m\u001b[0m\u001b[0m\n\u001b[1;32m    629\u001b[0m             \u001b[0;32melif\u001b[0m \u001b[0mexpr\u001b[0m\u001b[0;34m.\u001b[0m\u001b[0mis_Add\u001b[0m \u001b[0;32mor\u001b[0m \u001b[0mexpr\u001b[0m\u001b[0;34m.\u001b[0m\u001b[0mis_Mul\u001b[0m \u001b[0;32mor\u001b[0m \u001b[0mexpr\u001b[0m\u001b[0;34m.\u001b[0m\u001b[0mis_Pow\u001b[0m\u001b[0;34m:\u001b[0m\u001b[0;34m\u001b[0m\u001b[0m\n\u001b[0;32m--> 630\u001b[0;31m                 \u001b[0mlist\u001b[0m\u001b[0;34m(\u001b[0m\u001b[0mmap\u001b[0m\u001b[0;34m(\u001b[0m\u001b[0mfind_non_syms\u001b[0m\u001b[0;34m,\u001b[0m \u001b[0mexpr\u001b[0m\u001b[0;34m.\u001b[0m\u001b[0margs\u001b[0m\u001b[0;34m)\u001b[0m\u001b[0;34m)\u001b[0m\u001b[0;34m\u001b[0m\u001b[0m\n\u001b[0m\u001b[1;32m    631\u001b[0m             \u001b[0;32melse\u001b[0m\u001b[0;34m:\u001b[0m\u001b[0;34m\u001b[0m\u001b[0m\n\u001b[1;32m    632\u001b[0m                 \u001b[0;31m# TODO: Non-polynomial expression. This should have been\u001b[0m\u001b[0;34m\u001b[0m\u001b[0;34m\u001b[0m\u001b[0m\n",
      "\u001b[0;32m~/.local/lib/python3.5/site-packages/sympy/integrals/heurisch.py\u001b[0m in \u001b[0;36mfind_non_syms\u001b[0;34m(expr)\u001b[0m\n\u001b[1;32m    628\u001b[0m                 \u001b[0mnon_syms\u001b[0m\u001b[0;34m.\u001b[0m\u001b[0madd\u001b[0m\u001b[0;34m(\u001b[0m\u001b[0mexpr\u001b[0m\u001b[0;34m)\u001b[0m\u001b[0;34m\u001b[0m\u001b[0m\n\u001b[1;32m    629\u001b[0m             \u001b[0;32melif\u001b[0m \u001b[0mexpr\u001b[0m\u001b[0;34m.\u001b[0m\u001b[0mis_Add\u001b[0m \u001b[0;32mor\u001b[0m \u001b[0mexpr\u001b[0m\u001b[0;34m.\u001b[0m\u001b[0mis_Mul\u001b[0m \u001b[0;32mor\u001b[0m \u001b[0mexpr\u001b[0m\u001b[0;34m.\u001b[0m\u001b[0mis_Pow\u001b[0m\u001b[0;34m:\u001b[0m\u001b[0;34m\u001b[0m\u001b[0m\n\u001b[0;32m--> 630\u001b[0;31m                 \u001b[0mlist\u001b[0m\u001b[0;34m(\u001b[0m\u001b[0mmap\u001b[0m\u001b[0;34m(\u001b[0m\u001b[0mfind_non_syms\u001b[0m\u001b[0;34m,\u001b[0m \u001b[0mexpr\u001b[0m\u001b[0;34m.\u001b[0m\u001b[0margs\u001b[0m\u001b[0;34m)\u001b[0m\u001b[0;34m)\u001b[0m\u001b[0;34m\u001b[0m\u001b[0m\n\u001b[0m\u001b[1;32m    631\u001b[0m             \u001b[0;32melse\u001b[0m\u001b[0;34m:\u001b[0m\u001b[0;34m\u001b[0m\u001b[0m\n\u001b[1;32m    632\u001b[0m                 \u001b[0;31m# TODO: Non-polynomial expression. This should have been\u001b[0m\u001b[0;34m\u001b[0m\u001b[0;34m\u001b[0m\u001b[0m\n",
      "\u001b[0;32m~/.local/lib/python3.5/site-packages/sympy/integrals/heurisch.py\u001b[0m in \u001b[0;36mfind_non_syms\u001b[0;34m(expr)\u001b[0m\n\u001b[1;32m    628\u001b[0m                 \u001b[0mnon_syms\u001b[0m\u001b[0;34m.\u001b[0m\u001b[0madd\u001b[0m\u001b[0;34m(\u001b[0m\u001b[0mexpr\u001b[0m\u001b[0;34m)\u001b[0m\u001b[0;34m\u001b[0m\u001b[0m\n\u001b[1;32m    629\u001b[0m             \u001b[0;32melif\u001b[0m \u001b[0mexpr\u001b[0m\u001b[0;34m.\u001b[0m\u001b[0mis_Add\u001b[0m \u001b[0;32mor\u001b[0m \u001b[0mexpr\u001b[0m\u001b[0;34m.\u001b[0m\u001b[0mis_Mul\u001b[0m \u001b[0;32mor\u001b[0m \u001b[0mexpr\u001b[0m\u001b[0;34m.\u001b[0m\u001b[0mis_Pow\u001b[0m\u001b[0;34m:\u001b[0m\u001b[0;34m\u001b[0m\u001b[0m\n\u001b[0;32m--> 630\u001b[0;31m                 \u001b[0mlist\u001b[0m\u001b[0;34m(\u001b[0m\u001b[0mmap\u001b[0m\u001b[0;34m(\u001b[0m\u001b[0mfind_non_syms\u001b[0m\u001b[0;34m,\u001b[0m \u001b[0mexpr\u001b[0m\u001b[0;34m.\u001b[0m\u001b[0margs\u001b[0m\u001b[0;34m)\u001b[0m\u001b[0;34m)\u001b[0m\u001b[0;34m\u001b[0m\u001b[0m\n\u001b[0m\u001b[1;32m    631\u001b[0m             \u001b[0;32melse\u001b[0m\u001b[0;34m:\u001b[0m\u001b[0;34m\u001b[0m\u001b[0m\n\u001b[1;32m    632\u001b[0m                 \u001b[0;31m# TODO: Non-polynomial expression. This should have been\u001b[0m\u001b[0;34m\u001b[0m\u001b[0;34m\u001b[0m\u001b[0m\n",
      "\u001b[0;32m~/.local/lib/python3.5/site-packages/sympy/integrals/heurisch.py\u001b[0m in \u001b[0;36mfind_non_syms\u001b[0;34m(expr)\u001b[0m\n\u001b[1;32m    628\u001b[0m                 \u001b[0mnon_syms\u001b[0m\u001b[0;34m.\u001b[0m\u001b[0madd\u001b[0m\u001b[0;34m(\u001b[0m\u001b[0mexpr\u001b[0m\u001b[0;34m)\u001b[0m\u001b[0;34m\u001b[0m\u001b[0m\n\u001b[1;32m    629\u001b[0m             \u001b[0;32melif\u001b[0m \u001b[0mexpr\u001b[0m\u001b[0;34m.\u001b[0m\u001b[0mis_Add\u001b[0m \u001b[0;32mor\u001b[0m \u001b[0mexpr\u001b[0m\u001b[0;34m.\u001b[0m\u001b[0mis_Mul\u001b[0m \u001b[0;32mor\u001b[0m \u001b[0mexpr\u001b[0m\u001b[0;34m.\u001b[0m\u001b[0mis_Pow\u001b[0m\u001b[0;34m:\u001b[0m\u001b[0;34m\u001b[0m\u001b[0m\n\u001b[0;32m--> 630\u001b[0;31m                 \u001b[0mlist\u001b[0m\u001b[0;34m(\u001b[0m\u001b[0mmap\u001b[0m\u001b[0;34m(\u001b[0m\u001b[0mfind_non_syms\u001b[0m\u001b[0;34m,\u001b[0m \u001b[0mexpr\u001b[0m\u001b[0;34m.\u001b[0m\u001b[0margs\u001b[0m\u001b[0;34m)\u001b[0m\u001b[0;34m)\u001b[0m\u001b[0;34m\u001b[0m\u001b[0m\n\u001b[0m\u001b[1;32m    631\u001b[0m             \u001b[0;32melse\u001b[0m\u001b[0;34m:\u001b[0m\u001b[0;34m\u001b[0m\u001b[0m\n\u001b[1;32m    632\u001b[0m                 \u001b[0;31m# TODO: Non-polynomial expression. This should have been\u001b[0m\u001b[0;34m\u001b[0m\u001b[0;34m\u001b[0m\u001b[0m\n",
      "\u001b[0;32m~/.local/lib/python3.5/site-packages/sympy/integrals/heurisch.py\u001b[0m in \u001b[0;36mfind_non_syms\u001b[0;34m(expr)\u001b[0m\n\u001b[1;32m    625\u001b[0m             \u001b[0;32melif\u001b[0m \u001b[0mexpr\u001b[0m \u001b[0;32min\u001b[0m \u001b[0msyms\u001b[0m\u001b[0;34m:\u001b[0m\u001b[0;34m\u001b[0m\u001b[0m\n\u001b[1;32m    626\u001b[0m                 \u001b[0;32mpass\u001b[0m \u001b[0;31m# ignore variables\u001b[0m\u001b[0;34m\u001b[0m\u001b[0m\n\u001b[0;32m--> 627\u001b[0;31m             \u001b[0;32melif\u001b[0m \u001b[0;32mnot\u001b[0m \u001b[0mexpr\u001b[0m\u001b[0;34m.\u001b[0m\u001b[0mhas\u001b[0m\u001b[0;34m(\u001b[0m\u001b[0;34m*\u001b[0m\u001b[0msyms\u001b[0m\u001b[0;34m)\u001b[0m\u001b[0;34m:\u001b[0m\u001b[0;34m\u001b[0m\u001b[0m\n\u001b[0m\u001b[1;32m    628\u001b[0m                 \u001b[0mnon_syms\u001b[0m\u001b[0;34m.\u001b[0m\u001b[0madd\u001b[0m\u001b[0;34m(\u001b[0m\u001b[0mexpr\u001b[0m\u001b[0;34m)\u001b[0m\u001b[0;34m\u001b[0m\u001b[0m\n\u001b[1;32m    629\u001b[0m             \u001b[0;32melif\u001b[0m \u001b[0mexpr\u001b[0m\u001b[0;34m.\u001b[0m\u001b[0mis_Add\u001b[0m \u001b[0;32mor\u001b[0m \u001b[0mexpr\u001b[0m\u001b[0;34m.\u001b[0m\u001b[0mis_Mul\u001b[0m \u001b[0;32mor\u001b[0m \u001b[0mexpr\u001b[0m\u001b[0;34m.\u001b[0m\u001b[0mis_Pow\u001b[0m\u001b[0;34m:\u001b[0m\u001b[0;34m\u001b[0m\u001b[0m\n",
      "\u001b[0;32m~/.local/lib/python3.5/site-packages/sympy/core/cache.py\u001b[0m in \u001b[0;36mwrapper\u001b[0;34m(*args, **kwargs)\u001b[0m\n\u001b[1;32m     91\u001b[0m             \u001b[0;32mdef\u001b[0m \u001b[0mwrapper\u001b[0m\u001b[0;34m(\u001b[0m\u001b[0;34m*\u001b[0m\u001b[0margs\u001b[0m\u001b[0;34m,\u001b[0m \u001b[0;34m**\u001b[0m\u001b[0mkwargs\u001b[0m\u001b[0;34m)\u001b[0m\u001b[0;34m:\u001b[0m\u001b[0;34m\u001b[0m\u001b[0m\n\u001b[1;32m     92\u001b[0m                 \u001b[0;32mtry\u001b[0m\u001b[0;34m:\u001b[0m\u001b[0;34m\u001b[0m\u001b[0m\n\u001b[0;32m---> 93\u001b[0;31m                     \u001b[0mretval\u001b[0m \u001b[0;34m=\u001b[0m \u001b[0mcfunc\u001b[0m\u001b[0;34m(\u001b[0m\u001b[0;34m*\u001b[0m\u001b[0margs\u001b[0m\u001b[0;34m,\u001b[0m \u001b[0;34m**\u001b[0m\u001b[0mkwargs\u001b[0m\u001b[0;34m)\u001b[0m\u001b[0;34m\u001b[0m\u001b[0m\n\u001b[0m\u001b[1;32m     94\u001b[0m                 \u001b[0;32mexcept\u001b[0m \u001b[0mTypeError\u001b[0m\u001b[0;34m:\u001b[0m\u001b[0;34m\u001b[0m\u001b[0m\n\u001b[1;32m     95\u001b[0m                     \u001b[0mretval\u001b[0m \u001b[0;34m=\u001b[0m \u001b[0mfunc\u001b[0m\u001b[0;34m(\u001b[0m\u001b[0;34m*\u001b[0m\u001b[0margs\u001b[0m\u001b[0;34m,\u001b[0m \u001b[0;34m**\u001b[0m\u001b[0mkwargs\u001b[0m\u001b[0;34m)\u001b[0m\u001b[0;34m\u001b[0m\u001b[0m\n",
      "\u001b[0;32m~/.local/lib/python3.5/site-packages/sympy/core/basic.py\u001b[0m in \u001b[0;36mhas\u001b[0;34m(self, *patterns)\u001b[0m\n\u001b[1;32m   1170\u001b[0m \u001b[0;34m\u001b[0m\u001b[0m\n\u001b[1;32m   1171\u001b[0m         \"\"\"\n\u001b[0;32m-> 1172\u001b[0;31m         \u001b[0;32mreturn\u001b[0m \u001b[0many\u001b[0m\u001b[0;34m(\u001b[0m\u001b[0mself\u001b[0m\u001b[0;34m.\u001b[0m\u001b[0m_has\u001b[0m\u001b[0;34m(\u001b[0m\u001b[0mpattern\u001b[0m\u001b[0;34m)\u001b[0m \u001b[0;32mfor\u001b[0m \u001b[0mpattern\u001b[0m \u001b[0;32min\u001b[0m \u001b[0mpatterns\u001b[0m\u001b[0;34m)\u001b[0m\u001b[0;34m\u001b[0m\u001b[0m\n\u001b[0m\u001b[1;32m   1173\u001b[0m \u001b[0;34m\u001b[0m\u001b[0m\n\u001b[1;32m   1174\u001b[0m     \u001b[0;32mdef\u001b[0m \u001b[0m_has\u001b[0m\u001b[0;34m(\u001b[0m\u001b[0mself\u001b[0m\u001b[0;34m,\u001b[0m \u001b[0mpattern\u001b[0m\u001b[0;34m)\u001b[0m\u001b[0;34m:\u001b[0m\u001b[0;34m\u001b[0m\u001b[0m\n",
      "\u001b[0;32m~/.local/lib/python3.5/site-packages/sympy/core/basic.py\u001b[0m in \u001b[0;36m<genexpr>\u001b[0;34m(.0)\u001b[0m\n\u001b[1;32m   1170\u001b[0m \u001b[0;34m\u001b[0m\u001b[0m\n\u001b[1;32m   1171\u001b[0m         \"\"\"\n\u001b[0;32m-> 1172\u001b[0;31m         \u001b[0;32mreturn\u001b[0m \u001b[0many\u001b[0m\u001b[0;34m(\u001b[0m\u001b[0mself\u001b[0m\u001b[0;34m.\u001b[0m\u001b[0m_has\u001b[0m\u001b[0;34m(\u001b[0m\u001b[0mpattern\u001b[0m\u001b[0;34m)\u001b[0m \u001b[0;32mfor\u001b[0m \u001b[0mpattern\u001b[0m \u001b[0;32min\u001b[0m \u001b[0mpatterns\u001b[0m\u001b[0;34m)\u001b[0m\u001b[0;34m\u001b[0m\u001b[0m\n\u001b[0m\u001b[1;32m   1173\u001b[0m \u001b[0;34m\u001b[0m\u001b[0m\n\u001b[1;32m   1174\u001b[0m     \u001b[0;32mdef\u001b[0m \u001b[0m_has\u001b[0m\u001b[0;34m(\u001b[0m\u001b[0mself\u001b[0m\u001b[0;34m,\u001b[0m \u001b[0mpattern\u001b[0m\u001b[0;34m)\u001b[0m\u001b[0;34m:\u001b[0m\u001b[0;34m\u001b[0m\u001b[0m\n",
      "\u001b[0;32m~/.local/lib/python3.5/site-packages/sympy/core/basic.py\u001b[0m in \u001b[0;36m_has\u001b[0;34m(self, pattern)\u001b[0m\n\u001b[1;32m   1186\u001b[0m         \u001b[0;32mtry\u001b[0m\u001b[0;34m:\u001b[0m\u001b[0;34m\u001b[0m\u001b[0m\n\u001b[1;32m   1187\u001b[0m             \u001b[0mmatch\u001b[0m \u001b[0;34m=\u001b[0m \u001b[0mpattern\u001b[0m\u001b[0;34m.\u001b[0m\u001b[0m_has_matcher\u001b[0m\u001b[0;34m(\u001b[0m\u001b[0;34m)\u001b[0m\u001b[0;34m\u001b[0m\u001b[0m\n\u001b[0;32m-> 1188\u001b[0;31m             \u001b[0;32mreturn\u001b[0m \u001b[0many\u001b[0m\u001b[0;34m(\u001b[0m\u001b[0mmatch\u001b[0m\u001b[0;34m(\u001b[0m\u001b[0marg\u001b[0m\u001b[0;34m)\u001b[0m \u001b[0;32mfor\u001b[0m \u001b[0marg\u001b[0m \u001b[0;32min\u001b[0m \u001b[0mpreorder_traversal\u001b[0m\u001b[0;34m(\u001b[0m\u001b[0mself\u001b[0m\u001b[0;34m)\u001b[0m\u001b[0;34m)\u001b[0m\u001b[0;34m\u001b[0m\u001b[0m\n\u001b[0m\u001b[1;32m   1189\u001b[0m         \u001b[0;32mexcept\u001b[0m \u001b[0mAttributeError\u001b[0m\u001b[0;34m:\u001b[0m\u001b[0;34m\u001b[0m\u001b[0m\n\u001b[1;32m   1190\u001b[0m             \u001b[0;32mreturn\u001b[0m \u001b[0many\u001b[0m\u001b[0;34m(\u001b[0m\u001b[0marg\u001b[0m \u001b[0;34m==\u001b[0m \u001b[0mpattern\u001b[0m \u001b[0;32mfor\u001b[0m \u001b[0marg\u001b[0m \u001b[0;32min\u001b[0m \u001b[0mpreorder_traversal\u001b[0m\u001b[0;34m(\u001b[0m\u001b[0mself\u001b[0m\u001b[0;34m)\u001b[0m\u001b[0;34m)\u001b[0m\u001b[0;34m\u001b[0m\u001b[0m\n",
      "\u001b[0;32m~/.local/lib/python3.5/site-packages/sympy/core/basic.py\u001b[0m in \u001b[0;36m<genexpr>\u001b[0;34m(.0)\u001b[0m\n\u001b[1;32m   1186\u001b[0m         \u001b[0;32mtry\u001b[0m\u001b[0;34m:\u001b[0m\u001b[0;34m\u001b[0m\u001b[0m\n\u001b[1;32m   1187\u001b[0m             \u001b[0mmatch\u001b[0m \u001b[0;34m=\u001b[0m \u001b[0mpattern\u001b[0m\u001b[0;34m.\u001b[0m\u001b[0m_has_matcher\u001b[0m\u001b[0;34m(\u001b[0m\u001b[0;34m)\u001b[0m\u001b[0;34m\u001b[0m\u001b[0m\n\u001b[0;32m-> 1188\u001b[0;31m             \u001b[0;32mreturn\u001b[0m \u001b[0many\u001b[0m\u001b[0;34m(\u001b[0m\u001b[0mmatch\u001b[0m\u001b[0;34m(\u001b[0m\u001b[0marg\u001b[0m\u001b[0;34m)\u001b[0m \u001b[0;32mfor\u001b[0m \u001b[0marg\u001b[0m \u001b[0;32min\u001b[0m \u001b[0mpreorder_traversal\u001b[0m\u001b[0;34m(\u001b[0m\u001b[0mself\u001b[0m\u001b[0;34m)\u001b[0m\u001b[0;34m)\u001b[0m\u001b[0;34m\u001b[0m\u001b[0m\n\u001b[0m\u001b[1;32m   1189\u001b[0m         \u001b[0;32mexcept\u001b[0m \u001b[0mAttributeError\u001b[0m\u001b[0;34m:\u001b[0m\u001b[0;34m\u001b[0m\u001b[0m\n\u001b[1;32m   1190\u001b[0m             \u001b[0;32mreturn\u001b[0m \u001b[0many\u001b[0m\u001b[0;34m(\u001b[0m\u001b[0marg\u001b[0m \u001b[0;34m==\u001b[0m \u001b[0mpattern\u001b[0m \u001b[0;32mfor\u001b[0m \u001b[0marg\u001b[0m \u001b[0;32min\u001b[0m \u001b[0mpreorder_traversal\u001b[0m\u001b[0;34m(\u001b[0m\u001b[0mself\u001b[0m\u001b[0;34m)\u001b[0m\u001b[0;34m)\u001b[0m\u001b[0;34m\u001b[0m\u001b[0m\n",
      "\u001b[0;32m~/.local/lib/python3.5/site-packages/sympy/core/basic.py\u001b[0m in \u001b[0;36m__eq__\u001b[0;34m(self, other)\u001b[0m\n\u001b[1;32m    330\u001b[0m                 \u001b[0;32mreturn\u001b[0m \u001b[0;32mFalse\u001b[0m\u001b[0;34m\u001b[0m\u001b[0m\n\u001b[1;32m    331\u001b[0m \u001b[0;34m\u001b[0m\u001b[0m\n\u001b[0;32m--> 332\u001b[0;31m         \u001b[0;32mreturn\u001b[0m \u001b[0mself\u001b[0m\u001b[0;34m.\u001b[0m\u001b[0m_hashable_content\u001b[0m\u001b[0;34m(\u001b[0m\u001b[0;34m)\u001b[0m \u001b[0;34m==\u001b[0m \u001b[0mother\u001b[0m\u001b[0;34m.\u001b[0m\u001b[0m_hashable_content\u001b[0m\u001b[0;34m(\u001b[0m\u001b[0;34m)\u001b[0m\u001b[0;34m\u001b[0m\u001b[0m\n\u001b[0m\u001b[1;32m    333\u001b[0m \u001b[0;34m\u001b[0m\u001b[0m\n\u001b[1;32m    334\u001b[0m     \u001b[0;32mdef\u001b[0m \u001b[0m__ne__\u001b[0m\u001b[0;34m(\u001b[0m\u001b[0mself\u001b[0m\u001b[0;34m,\u001b[0m \u001b[0mother\u001b[0m\u001b[0;34m)\u001b[0m\u001b[0;34m:\u001b[0m\u001b[0;34m\u001b[0m\u001b[0m\n",
      "\u001b[0;32m~/.local/lib/python3.5/site-packages/sympy/core/symbol.py\u001b[0m in \u001b[0;36m_hashable_content\u001b[0;34m(self)\u001b[0m\n\u001b[1;32m    241\u001b[0m \u001b[0;34m\u001b[0m\u001b[0m\n\u001b[1;32m    242\u001b[0m     \u001b[0;32mdef\u001b[0m \u001b[0m_hashable_content\u001b[0m\u001b[0;34m(\u001b[0m\u001b[0mself\u001b[0m\u001b[0;34m)\u001b[0m\u001b[0;34m:\u001b[0m\u001b[0;34m\u001b[0m\u001b[0m\n\u001b[0;32m--> 243\u001b[0;31m         \u001b[0;32mreturn\u001b[0m \u001b[0mSymbol\u001b[0m\u001b[0;34m.\u001b[0m\u001b[0m_hashable_content\u001b[0m\u001b[0;34m(\u001b[0m\u001b[0mself\u001b[0m\u001b[0;34m)\u001b[0m \u001b[0;34m+\u001b[0m \u001b[0;34m(\u001b[0m\u001b[0mself\u001b[0m\u001b[0;34m.\u001b[0m\u001b[0mdummy_index\u001b[0m\u001b[0;34m,\u001b[0m\u001b[0;34m)\u001b[0m\u001b[0;34m\u001b[0m\u001b[0m\n\u001b[0m\u001b[1;32m    244\u001b[0m \u001b[0;34m\u001b[0m\u001b[0m\n\u001b[1;32m    245\u001b[0m \u001b[0;34m\u001b[0m\u001b[0m\n",
      "\u001b[0;32m~/.local/lib/python3.5/site-packages/sympy/core/symbol.py\u001b[0m in \u001b[0;36m_hashable_content\u001b[0;34m(self)\u001b[0m\n\u001b[1;32m    139\u001b[0m     \u001b[0;32mdef\u001b[0m \u001b[0m_hashable_content\u001b[0m\u001b[0;34m(\u001b[0m\u001b[0mself\u001b[0m\u001b[0;34m)\u001b[0m\u001b[0;34m:\u001b[0m\u001b[0;34m\u001b[0m\u001b[0m\n\u001b[1;32m    140\u001b[0m         \u001b[0;31m# Note: user-specified assumptions not hashed, just derived ones\u001b[0m\u001b[0;34m\u001b[0m\u001b[0;34m\u001b[0m\u001b[0m\n\u001b[0;32m--> 141\u001b[0;31m         \u001b[0;32mreturn\u001b[0m \u001b[0;34m(\u001b[0m\u001b[0mself\u001b[0m\u001b[0;34m.\u001b[0m\u001b[0mname\u001b[0m\u001b[0;34m,\u001b[0m\u001b[0;34m)\u001b[0m \u001b[0;34m+\u001b[0m \u001b[0mtuple\u001b[0m\u001b[0;34m(\u001b[0m\u001b[0msorted\u001b[0m\u001b[0;34m(\u001b[0m\u001b[0mself\u001b[0m\u001b[0;34m.\u001b[0m\u001b[0massumptions0\u001b[0m\u001b[0;34m.\u001b[0m\u001b[0mitems\u001b[0m\u001b[0;34m(\u001b[0m\u001b[0;34m)\u001b[0m\u001b[0;34m)\u001b[0m\u001b[0;34m)\u001b[0m\u001b[0;34m\u001b[0m\u001b[0m\n\u001b[0m\u001b[1;32m    142\u001b[0m \u001b[0;34m\u001b[0m\u001b[0m\n\u001b[1;32m    143\u001b[0m     \u001b[0;34m@\u001b[0m\u001b[0mproperty\u001b[0m\u001b[0;34m\u001b[0m\u001b[0m\n",
      "\u001b[0;31mKeyboardInterrupt\u001b[0m: "
     ]
    }
   ],
   "source": [
    "# Ejemplo:  Transformada de R_1s (No es la mejor forma!)\n",
    "\n",
    "tic=time.clock()\n",
    "#T_1s_mal=integrate(2*pi/sqrt(4*pi)*R1s*r**2*sin(theta)*exp(-I*k*r*cos(theta)), (theta,0,pi),(r,0,oo))\n",
    "T_1s_mal=integrate(exp(-I*k*r*cos(theta)), (theta,0,pi),(r,0,oo))\n",
    "\n",
    "time.clock()-tic,factor(simplify(T_1s_mal))\n"
   ]
  },
  {
   "cell_type": "markdown",
   "metadata": {
    "collapsed": true
   },
   "source": [
    "\\begin{equation}\n",
    "\\frac{8 \\sqrt(\\pi) z^{2.5}}{(k^2 + z^2)^2}\n",
    "\\end{equation}"
   ]
  },
  {
   "cell_type": "code",
   "execution_count": 71,
   "metadata": {},
   "outputs": [],
   "source": [
    "# Forma correcta: \n",
    "# Expandiendo la onda plana en Armónicos Esféricos"
   ]
  },
  {
   "cell_type": "markdown",
   "metadata": {
    "collapsed": true
   },
   "source": [
    "\n",
    "Usamos la expansión de la onda plana:\n",
    "\n",
    "\\begin{equation}\n",
    "e^{i\\vec{k}\\vec{r}} = \\sum_l (2l+1) \\, i^l \\, j_l(kr) \\, P_l(\\hat{k}\\cdot\\hat{r})  \\, , \n",
    "\\end{equation} \n",
    " \n",
    "en donde $j_{l}(rk)$ son las funciones esféricas de Bessel. \n",
    "Usamos el teorema de adición de los armónicos esféricos: \n",
    "    \n",
    "\\begin{equation}\n",
    "P_l(\\hat{k}\\cdot\\hat{r})= \n",
    "\\frac{4\\pi}{2l+1} \\sum_m {Y_l^m}^*(\\hat{r}) Y_l^m(\\hat{k}) \\, .\n",
    "\\end{equation}\n",
    "\n",
    "La transformada de Fourier resulta\n",
    "\n",
    "\n",
    "\\begin{equation}\n",
    "\\tilde{\\phi}(\\vec{k}) = 4\\pi i^{l} \\sum_l  \\sum_m \n",
    "Y_l^m(\\hat{k}) \\int_{\\Omega} {Y_l^m}^*(\\hat{r}) Y_{l_i}^{m_i}(\\hat{r}) \\, d\\Omega \n",
    "\\int_{\\infty} R_{n_il_i}(r) \\, j_l(kr) \\, r^2 \\, dr \n",
    "\\end{equation}\n",
    "\n",
    "La integral angular es  $\\delta_{l_i,l}\\,\\delta_{m_i,m}$  que usamos para eliminar las sumatorias. \n",
    "\n",
    "Finalmente:\n",
    "\n",
    "\\begin{equation} \n",
    "\\tilde{\\phi}(\\vec{k}) = 4\\pi i^{l_1} Y_{l_i}^{m_i}(\\hat{k}) \n",
    "\\int_{\\infty} R_{n_il_i}(r) \\, j_{l_1}(kr) \\, r^{2} \\, dr  \n",
    "\\end{equation}\n",
    "\n",
    "Todo esto resulta operacionalmente ventajoso por dos motivos: \n",
    "* Es una unica integral en una sola variable. \n",
    "* Nos podemos despreocupar de la parte angular.\n",
    "    \n",
    "\n",
    "Notar que la transformada de Fourier tiene la **misma simetría** que la \n",
    "función original.\n",
    "\n",
    "    "
   ]
  },
  {
   "cell_type": "code",
   "execution_count": 72,
   "metadata": {},
   "outputs": [],
   "source": [
    "#Vamos a definir las j que usamos\n",
    "j0=sin(k*r)/(k*r)\n",
    "j1=sin(k*r)/(k*r)**2-cos(k*r)/(k*r)"
   ]
  },
  {
   "cell_type": "code",
   "execution_count": 99,
   "metadata": {},
   "outputs": [
    {
     "data": {
      "image/png": "[encoded data removed]",
      "text/latex": [
       "$$\\left ( 0.15480200000000366, \\quad \\frac{2.82842712474619 z^{2.5}}{\\pi^{1.0} \\left(k^{2} + z^{2}\\right)^{2}}\\right )$$"
      ],
      "text/plain": [
       "⎛                                       -1.0  2.5⎞\n",
       "⎜                     2.82842712474619⋅π    ⋅z   ⎟\n",
       "⎜0.15480200000000366, ───────────────────────────⎟\n",
       "⎜                                       2        ⎟\n",
       "⎜                              ⎛ 2    2⎞         ⎟\n",
       "⎝                              ⎝k  + z ⎠         ⎠"
      ]
     },
     "execution_count": 99,
     "metadata": {},
     "output_type": "execute_result"
    }
   ],
   "source": [
    "#print(2**(3/2))\n",
    "tic=time.clock()\n",
    "T_1s_bien=integrate(4*pi/sqrt(4*pi)*R1s*r**2*j0/(2*pi)**(3/2),(r,0,oo))\n",
    "toc=time.clock()\n",
    "#toc-tic,simplify(4*pi/sqrt(4*pi)*T_1s_bien/(2*pi)**(3/2))\n",
    "toc-tic,simplify(T_1s_bien)\n",
    "#T_1s_bien=4*pi/sqrt(4*pi)*T_1s_bien/(2*pi)**(3/2)\n",
    "#print(T_1s_bien)"
   ]
  },
  {
   "cell_type": "markdown",
   "metadata": {},
   "source": [
    "\\begin{equation}\n",
    "\\frac{8 \\sqrt(\\pi) z^{2.5}}{(k^2 + z^2)^2}\n",
    "\\end{equation}"
   ]
  },
  {
   "cell_type": "code",
   "execution_count": 77,
   "metadata": {},
   "outputs": [
    {
     "data": {
      "image/png": "[encoded data removed]",
      "text/latex": [
       "$$\\frac{32 \\sqrt{2} \\sqrt{\\pi} z^{2.5} \\left(4 k^{2} - z^{2}\\right)}{\\left(4 k^{2} + z^{2}\\right)^{3}}$$"
      ],
      "text/plain": [
       "          2.5 ⎛   2    2⎞\n",
       "32⋅√2⋅√π⋅z   ⋅⎝4⋅k  - z ⎠\n",
       "─────────────────────────\n",
       "                  3      \n",
       "       ⎛   2    2⎞       \n",
       "       ⎝4⋅k  + z ⎠       "
      ]
     },
     "execution_count": 77,
     "metadata": {},
     "output_type": "execute_result"
    }
   ],
   "source": [
    "# Transformada de la función 2s\n",
    "\n",
    "T_2s=integrate(R2s*r**2*j0,(r,0,oo))\n",
    "simplify(4*pi/sqrt(4*pi)*T_2s)"
   ]
  },
  {
   "cell_type": "markdown",
   "metadata": {},
   "source": [
    "\\begin{equation}\n",
    "\\frac{32 \\sqrt{2  \\pi z^5}    \\, (4 k^2 - z^2)}{(4 k^2 + z^2)^3}\n",
    "\\end{equation}"
   ]
  },
  {
   "cell_type": "markdown",
   "metadata": {
    "collapsed": true
   },
   "source": [
    "## Ejercicios:\n",
    "\n",
    "* Comprobar que la Transformada de la función 2s es correcta\n",
    "* Repetir el ejercicio para la función 2p"
   ]
  },
  {
   "cell_type": "markdown",
   "metadata": {},
   "source": [
    "# Para comprobar que la función es correcta uso\n",
    "\n",
    "## $ \\phi_{n,l}(\\vec{r})=\\int \\cfrac{d\\vec{k}}{(2\\pi)^{3/2}} exp(+i\\vec{k}\\vec{r}) \\phi_{n,l}(\\vec{k}) $"
   ]
  },
  {
   "cell_type": "markdown",
   "metadata": {},
   "source": [
    "## Para el 1s:"
   ]
  },
  {
   "cell_type": "code",
   "execution_count": 118,
   "metadata": {},
   "outputs": [
    {
     "data": {
      "image/png": "[encoded data removed]",
      "text/latex": [
       "$$\\frac{z^{1.5}}{\\pi^{0.5}} 2.22044604925031 \\cdot 10^{-16} e^{- r z}$$"
      ],
      "text/plain": [
       "                      -0.5  1.5  -r⋅z\n",
       "2.22044604925031e-16⋅π    ⋅z   ⋅ℯ    "
      ]
     },
     "execution_count": 118,
     "metadata": {},
     "output_type": "execute_result"
    }
   ],
   "source": [
    "j0_inv=sin(-k*r)/(-k*r)\n",
    "T_1s_inv=integrate(4*pi*T_1s_bien*k**2*j0_inv/(2*pi)**(3/2),(k,0,oo))\n",
    "\n",
    "\n",
    "simplify(R1s*(4*pi)**(-1/2)) - simplify(T_1s_inv)"
   ]
  },
  {
   "cell_type": "markdown",
   "metadata": {},
   "source": [
    "## Para el 2s:"
   ]
  },
  {
   "cell_type": "code",
   "execution_count": 139,
   "metadata": {},
   "outputs": [
    {
     "data": {
      "image/png": "[encoded data removed]",
      "text/latex": [
       "$$\\frac{0.125 \\sqrt{2}}{\\pi^{0.5}} z^{1.5} \\left(- r z + 2\\right) e^{- \\frac{r z}{2}} - \\frac{\\sqrt{2} z^{1.5}}{\\pi^{0.5}} \\left(0.125 r z \\sinh{\\left (\\frac{r z}{2} \\right )} - 0.125 r z \\cosh{\\left (\\frac{r z}{2} \\right )} - 0.25 \\sinh{\\left (\\frac{r z}{2} \\right )} + 0.25 \\cosh{\\left (\\frac{r z}{2} \\right )}\\right)$$"
      ],
      "text/plain": [
       "                                -r⋅z                                          \n",
       "                                ─────                                         \n",
       "          -0.5  1.5               2         -0.5  1.5 ⎛              ⎛r⋅z⎞    \n",
       "0.125⋅√2⋅π    ⋅z   ⋅(-r⋅z + 2)⋅ℯ      - √2⋅π    ⋅z   ⋅⎜0.125⋅r⋅z⋅sinh⎜───⎟ - 0\n",
       "                                                      ⎝              ⎝ 2 ⎠    \n",
       "\n",
       "                                                     \n",
       "                                                     \n",
       "             ⎛r⋅z⎞            ⎛r⋅z⎞            ⎛r⋅z⎞⎞\n",
       ".125⋅r⋅z⋅cosh⎜───⎟ - 0.25⋅sinh⎜───⎟ + 0.25⋅cosh⎜───⎟⎟\n",
       "             ⎝ 2 ⎠            ⎝ 2 ⎠            ⎝ 2 ⎠⎠"
      ]
     },
     "execution_count": 139,
     "metadata": {},
     "output_type": "execute_result"
    }
   ],
   "source": [
    "#Transformada del 2s\n",
    "\n",
    "T_2s_bien=simplify(integrate(4*pi/sqrt(4*pi)*R2s*r**2*j0/(2*pi)**(3/2),(r,0,oo)))\n",
    "T_2s_bien\n",
    "\n",
    "#Antitransformo\n",
    "\n",
    "T_2s_inv=simplify(integrate(4*pi*T_2s_bien*k**2*j0_inv/(2*pi)**(3/2),(k,0,oo)))\n",
    "T_2s_inv\n",
    "\n",
    "#expand(simplify(R2s*(4*pi)**(-1/2)) - simplify(T_2s_inv))\n",
    "R2s*(4*pi)**(-1/2)-T_2s_inv"
   ]
  },
  {
   "cell_type": "markdown",
   "metadata": {},
   "source": [
    "## La Ecuación de Schrodinger en el Espacio de los Momentos:\n",
    "\n",
    "Transformando Fourier ambos lados de la ecuación de Schrödinger se obtiene:\n",
    "    \n",
    "\\begin{equation} \n",
    "\\left( E_n-\\frac{k^2}{2} \\right)\\tilde{\\phi}_{n,l}(\\vec{k})= \n",
    "\\frac{1}{(2\\pi)^{3/2}} \\int V(\\vec{r}) \\, \\phi_{n,l}(\\vec{r}) \n",
    "\\, e^{-i\\vec{k}\\cdot\\vec{r}} d\\vec{r} \n",
    "\\end{equation}\n",
    "\n",
    "Vamos a comprobar que las funciones halladas previamente son efectivamente soluciones \n",
    "de esta nueva ecuación."
   ]
  },
  {
   "cell_type": "code",
   "execution_count": 165,
   "metadata": {},
   "outputs": [
    {
     "data": {
      "image/png": "[encoded data removed]",
      "text/latex": [
       "$$\\frac{2 \\sqrt{2} z^{2.5}}{\\pi \\left(k^{2} + z^{2}\\right)^{2}}$$"
      ],
      "text/plain": [
       "       2.5  \n",
       " 2⋅√2⋅z     \n",
       "────────────\n",
       "           2\n",
       "  ⎛ 2    2⎞ \n",
       "π⋅⎝k  + z ⎠ "
      ]
     },
     "execution_count": 165,
     "metadata": {},
     "output_type": "execute_result"
    }
   ],
   "source": [
    "# Volvemos (por las dudas) a calcular la transformada de Fourier de 1s\n",
    "\n",
    "rint=integrate(  R1s * j0 * r**2 ,(r,0,oo))\n",
    "T1s = 1/(sqrt(2*pi))**3  * (4 * pi)/ sqrt(4*pi) * rint\n",
    "simplify(T1s)"
   ]
  },
  {
   "cell_type": "markdown",
   "metadata": {},
   "source": [
    "\\begin{equation}\n",
    "\\frac{2 \\sqrt{2 z^5}}{ \\pi (k^2 + z^2)^2}\n",
    "\\end{equation}"
   ]
  },
  {
   "cell_type": "code",
   "execution_count": 141,
   "metadata": {},
   "outputs": [
    {
     "data": {
      "image/png": "[encoded data removed]",
      "text/latex": [
       "$$- \\frac{\\sqrt{2} z^{2.5}}{\\pi \\left(k^{2} + z^{2}\\right)}$$"
      ],
      "text/plain": [
       "      2.5  \n",
       " -√2⋅z     \n",
       "───────────\n",
       "  ⎛ 2    2⎞\n",
       "π⋅⎝k  + z ⎠"
      ]
     },
     "execution_count": 141,
     "metadata": {},
     "output_type": "execute_result"
    }
   ],
   "source": [
    "# Integramos el lado derecho \n",
    "\n",
    "rint=integrate(V *  R1s * j0 * r**2 ,(r,0,oo))\n",
    "rhs = 1/(sqrt(2*pi))**3  * (4 * pi)/ sqrt(4*pi) * rint\n",
    "simplify(rhs)"
   ]
  },
  {
   "cell_type": "markdown",
   "metadata": {},
   "source": [
    "\\begin{equation}\n",
    "-\\frac{\\sqrt{2 z^5} }{ \\pi (k^2 + z^2)}\n",
    "\\end{equation}"
   ]
  },
  {
   "cell_type": "code",
   "execution_count": 142,
   "metadata": {},
   "outputs": [
    {
     "data": {
      "image/png": "[encoded data removed]",
      "text/latex": [
       "$$\\frac{2 \\sqrt{2} \\left(- \\frac{k^{2}}{2} - \\frac{z^{2}}{2}\\right)}{\\pi z^{1.5} \\left(\\frac{k^{2}}{z^{2}} + 1\\right)^{2}} + \\frac{\\sqrt{2} z^{2.5}}{\\pi k^{2} \\left(1 + \\frac{z^{2}}{k^{2}}\\right)}$$"
      ],
      "text/plain": [
       "           ⎛   2    2⎞                \n",
       "      -1.5 ⎜  k    z ⎟                \n",
       "2⋅√2⋅z    ⋅⎜- ── - ──⎟          2.5   \n",
       "           ⎝  2    2 ⎠      √2⋅z      \n",
       "────────────────────── + ─────────────\n",
       "               2              ⎛     2⎞\n",
       "       ⎛ 2    ⎞             2 ⎜    z ⎟\n",
       "       ⎜k     ⎟          π⋅k ⋅⎜1 + ──⎟\n",
       "     π⋅⎜── + 1⎟               ⎜     2⎟\n",
       "       ⎜ 2    ⎟               ⎝    k ⎠\n",
       "       ⎝z     ⎠                       "
      ]
     },
     "execution_count": 142,
     "metadata": {},
     "output_type": "execute_result"
    }
   ],
   "source": [
    "T1s*(-z*z/2 -k*k/2) - rhs"
   ]
  },
  {
   "cell_type": "markdown",
   "metadata": {},
   "source": [
    "\\begin{equation}\n",
    "2 \\sqrt{\\frac{2}{z^3}} \\frac{ (-\\frac{k^2}{2} - \\frac{z^2}{2}) }{\\pi (\\frac{k^2}{z^2} + 1)^2} + \n",
    "\\frac{ \\sqrt{2 z^5} }{\\pi k^2 (1 + \\frac{z^2}{k^2})}\n",
    "\\end{equation}"
   ]
  },
  {
   "cell_type": "code",
   "execution_count": 143,
   "metadata": {},
   "outputs": [
    {
     "data": {
      "image/png": "[encoded data removed]",
      "text/latex": [
       "$$0$$"
      ],
      "text/plain": [
       "0"
      ]
     },
     "execution_count": 143,
     "metadata": {},
     "output_type": "execute_result"
    }
   ],
   "source": [
    "simplify (T1s*(-z*z/2 -k*k/2) - rhs)"
   ]
  },
  {
   "cell_type": "markdown",
   "metadata": {},
   "source": [
    "## Ejercicios:\n",
    "\n",
    "* Comprobar que la Transformada de la función 2s es solución de la ecuación correspondiente\n",
    "* Repetir el ejercicio para la función 2p"
   ]
  },
  {
   "cell_type": "code",
   "execution_count": 157,
   "metadata": {},
   "outputs": [
    {
     "data": {
      "image/png": "[encoded data removed]",
      "text/latex": [
       "$$\\frac{16 z^{2.5} \\left(4 k^{2} - z^{2}\\right)}{\\pi \\left(4 k^{2} + z^{2}\\right)^{3}}$$"
      ],
      "text/plain": [
       "    2.5 ⎛   2    2⎞\n",
       "16⋅z   ⋅⎝4⋅k  - z ⎠\n",
       "───────────────────\n",
       "                3  \n",
       "     ⎛   2    2⎞   \n",
       "   π⋅⎝4⋅k  + z ⎠   "
      ]
     },
     "execution_count": 157,
     "metadata": {},
     "output_type": "execute_result"
    }
   ],
   "source": [
    "# Calculo la transformada de Fourier del 2s\n",
    "\n",
    "rint=integrate(  R2s * j0 * r**2 ,(r,0,oo))\n",
    "T2s = 1/(sqrt(2*pi))**3  * (4 * pi)/ sqrt(4*pi) * rint\n",
    "simplify(T2s)"
   ]
  },
  {
   "cell_type": "code",
   "execution_count": 158,
   "metadata": {},
   "outputs": [
    {
     "data": {
      "image/png": "[encoded data removed]",
      "text/latex": [
       "$$\\frac{2 \\left(- z^{2.5} \\left(4 k^{2} + z^{2}\\right) + 2 z^{4.5}\\right)}{\\pi \\left(4 k^{2} + z^{2}\\right)^{2}}$$"
      ],
      "text/plain": [
       "  ⎛   2.5 ⎛   2    2⎞      4.5⎞\n",
       "2⋅⎝- z   ⋅⎝4⋅k  + z ⎠ + 2⋅z   ⎠\n",
       "───────────────────────────────\n",
       "                      2        \n",
       "           ⎛   2    2⎞         \n",
       "         π⋅⎝4⋅k  + z ⎠         "
      ]
     },
     "execution_count": 158,
     "metadata": {},
     "output_type": "execute_result"
    }
   ],
   "source": [
    "# Integramos el lado derecho \n",
    "\n",
    "rint=integrate(V *  R2s * j0 * r**2 ,(r,0,oo))\n",
    "rhs = 1/(sqrt(2*pi))**3  * (4 * pi)/ sqrt(4*pi) * rint\n",
    "simplify(rhs)\n"
   ]
  },
  {
   "cell_type": "code",
   "execution_count": 161,
   "metadata": {},
   "outputs": [
    {
     "data": {
      "image/png": "[encoded data removed]",
      "text/latex": [
       "$$\\frac{\\sqrt{2}}{2 \\pi} \\left(- \\frac{k^{2}}{2} - \\frac{z^{2}}{8}\\right) \\left(- \\frac{16 \\sqrt{2}}{z^{1.5} \\left(\\frac{4 k^{2}}{z^{2}} + 1\\right)^{2}} \\left(1 + \\frac{\\frac{12 k^{2}}{z^{2}} - 1}{- \\frac{8 k^{2}}{z^{2}} - 2}\\right) + \\frac{8 \\sqrt{2}}{z^{1.5} \\left(\\frac{4 k^{2}}{z^{2}} + 1\\right)^{2}}\\right) - \\frac{\\sqrt{2}}{2 \\pi} \\left(\\frac{4 \\sqrt{2} z^{0.5}}{\\left(\\frac{4 k^{2}}{z^{2}} + 1\\right)^{2}} - \\frac{\\sqrt{2} z^{2.5}}{2 k^{2} \\left(1 + \\frac{z^{2}}{4 k^{2}}\\right)}\\right)$$"
      ],
      "text/plain": [
       "               ⎛              ⎛        2     ⎞              ⎞                 \n",
       "               ⎜              ⎜    12⋅k      ⎟              ⎟                 \n",
       "               ⎜              ⎜    ───── - 1 ⎟              ⎟                 \n",
       "               ⎜              ⎜       2      ⎟              ⎟                 \n",
       "               ⎜         -1.5 ⎜      z       ⎟              ⎟                 \n",
       "               ⎜  16⋅√2⋅z    ⋅⎜1 + ──────────⎟              ⎟                 \n",
       "               ⎜              ⎜         2    ⎟              ⎟                 \n",
       "               ⎜              ⎜      8⋅k     ⎟              ⎟                 \n",
       "               ⎜              ⎜    - ──── - 2⎟              ⎟                 \n",
       "   ⎛   2    2⎞ ⎜              ⎜        2     ⎟          -1.5⎟      ⎛       0.5\n",
       "   ⎜  k    z ⎟ ⎜              ⎝       z      ⎠    8⋅√2⋅z    ⎟      ⎜ 4⋅√2⋅z   \n",
       "√2⋅⎜- ── - ──⎟⋅⎜- ──────────────────────────── + ───────────⎟   √2⋅⎜──────────\n",
       "   ⎝  2    8 ⎠ ⎜                    2                      2⎟      ⎜          \n",
       "               ⎜          ⎛   2    ⎞             ⎛   2    ⎞ ⎟      ⎜⎛   2    ⎞\n",
       "               ⎜          ⎜4⋅k     ⎟             ⎜4⋅k     ⎟ ⎟      ⎜⎜4⋅k     ⎟\n",
       "               ⎜          ⎜──── + 1⎟             ⎜──── + 1⎟ ⎟      ⎜⎜──── + 1⎟\n",
       "               ⎜          ⎜  2     ⎟             ⎜  2     ⎟ ⎟      ⎜⎜  2     ⎟\n",
       "               ⎝          ⎝ z      ⎠             ⎝ z      ⎠ ⎠      ⎝⎝ z      ⎠\n",
       "───────────────────────────────────────────────────────────── - ──────────────\n",
       "                             2⋅π                                              \n",
       "\n",
       "                    \n",
       "                    \n",
       "                    \n",
       "                    \n",
       "                    \n",
       "                    \n",
       "                    \n",
       "                    \n",
       "                    \n",
       "            2.5    ⎞\n",
       "        √2⋅z       ⎟\n",
       "─ - ───────────────⎟\n",
       "2        ⎛      2 ⎞⎟\n",
       "       2 ⎜     z  ⎟⎟\n",
       "    2⋅k ⋅⎜1 + ────⎟⎟\n",
       "         ⎜       2⎟⎟\n",
       "         ⎝    4⋅k ⎠⎟\n",
       "                   ⎠\n",
       "────────────────────\n",
       " 2⋅π                "
      ]
     },
     "execution_count": 161,
     "metadata": {},
     "output_type": "execute_result"
    }
   ],
   "source": [
    "T2s*(-z*z/(2*2**2) -k*k/2) - rhs"
   ]
  },
  {
   "cell_type": "code",
   "execution_count": 163,
   "metadata": {},
   "outputs": [
    {
     "data": {
      "image/png": "[encoded data removed]",
      "text/latex": [
       "$$0$$"
      ],
      "text/plain": [
       "0"
      ]
     },
     "execution_count": 163,
     "metadata": {},
     "output_type": "execute_result"
    }
   ],
   "source": [
    "simplify (T2s*(-z*z/(2*2**2) -k*k/2) - rhs)"
   ]
  },
  {
   "cell_type": "code",
   "execution_count": 176,
   "metadata": {},
   "outputs": [
    {
     "data": {
      "image/png": "[encoded data removed]",
      "text/latex": [
       "$$\\frac{128 k z^{3.5} \\cos{\\left (\\theta \\right )}}{\\pi \\left(4 k^{2} + z^{2}\\right)^{3}}$$"
      ],
      "text/plain": [
       "       3.5       \n",
       "128⋅k⋅z   ⋅cos(θ)\n",
       "─────────────────\n",
       "               3 \n",
       "    ⎛   2    2⎞  \n",
       "  π⋅⎝4⋅k  + z ⎠  "
      ]
     },
     "execution_count": 176,
     "metadata": {},
     "output_type": "execute_result"
    }
   ],
   "source": [
    "# Calculo la transformada de Fourier del 2p\n",
    "\n",
    "rint=integrate(  R2p * j1 * r**2 ,(r,0,oo))\n",
    "T2p = 1/(sqrt(2*pi))**3  * (4 * pi) * sqrt(3/pi)/2 * cos(theta) * rint\n",
    "simplify(T2p)"
   ]
  },
  {
   "cell_type": "code",
   "execution_count": 177,
   "metadata": {},
   "outputs": [
    {
     "data": {
      "image/png": "[encoded data removed]",
      "text/latex": [
       "$$- \\frac{16 k z^{3.5} \\cos{\\left (\\theta \\right )}}{\\pi \\left(4 k^{2} + z^{2}\\right)^{2}}$$"
      ],
      "text/plain": [
       "       3.5        \n",
       "-16⋅k⋅z   ⋅cos(θ) \n",
       "──────────────────\n",
       "               2  \n",
       "    ⎛   2    2⎞   \n",
       "  π⋅⎝4⋅k  + z ⎠   "
      ]
     },
     "execution_count": 177,
     "metadata": {},
     "output_type": "execute_result"
    }
   ],
   "source": [
    "# Integramos el lado derecho \n",
    "\n",
    "rint=integrate(V *  R2p * j1 * r**2 ,(r,0,oo))\n",
    "rhs = 1/(sqrt(2*pi))**3  * (4 * pi)* sqrt(3/pi)/2 * cos(theta) * rint\n",
    "simplify(rhs)"
   ]
  },
  {
   "cell_type": "code",
   "execution_count": 178,
   "metadata": {},
   "outputs": [
    {
     "data": {
      "image/png": "[encoded data removed]",
      "text/latex": [
       "$$\\frac{\\sqrt{6}}{2 \\pi} \\left(- \\frac{k^{2}}{2} - \\frac{z^{2}}{8}\\right) \\left(\\frac{8 \\sqrt{6}}{3 k z^{0.5} \\left(\\frac{4 k^{2}}{z^{2}} + 1\\right)^{2}} - \\frac{\\sqrt{6} z^{3.5} \\left(-1 + \\frac{1 - \\frac{3 z^{2}}{4 k^{2}}}{-2 - \\frac{z^{2}}{2 k^{2}}}\\right)}{3 k^{5} \\left(1 + \\frac{z^{2}}{4 k^{2}}\\right)^{2}}\\right) \\cos{\\left (\\theta \\right )} - \\frac{\\sqrt{6}}{2 \\pi} \\left(- \\frac{\\sqrt{6} z^{3.5}}{6 k^{3} \\left(1 + \\frac{z^{2}}{4 k^{2}}\\right)} + \\frac{\\sqrt{6} z^{3.5} \\left(1 - \\frac{z^{2}}{4 k^{2}}\\right)}{3 k^{3} \\left(-2 - \\frac{z^{2}}{2 k^{2}}\\right) \\left(1 + \\frac{z^{2}}{4 k^{2}}\\right)}\\right) \\cos{\\left (\\theta \\right )}$$"
      ],
      "text/plain": [
       "               ⎛                          ⎛             2⎞⎞                   \n",
       "               ⎜                          ⎜          3⋅z ⎟⎟                   \n",
       "               ⎜                          ⎜      1 - ────⎟⎟                   \n",
       "               ⎜                          ⎜             2⎟⎟                   \n",
       "               ⎜                      3.5 ⎜          4⋅k ⎟⎟                   \n",
       "               ⎜                  √6⋅z   ⋅⎜-1 + ─────────⎟⎟                   \n",
       "               ⎜                          ⎜            2 ⎟⎟                   \n",
       "               ⎜                          ⎜           z  ⎟⎟             ⎛     \n",
       "               ⎜                          ⎜     -2 - ────⎟⎟             ⎜     \n",
       "   ⎛   2    2⎞ ⎜         -0.5             ⎜             2⎟⎟             ⎜     \n",
       "   ⎜  k    z ⎟ ⎜   8⋅√6⋅z                 ⎝          2⋅k ⎠⎟             ⎜     \n",
       "√6⋅⎜- ── - ──⎟⋅⎜─────────────── - ────────────────────────⎟⋅cos(θ)      ⎜     \n",
       "   ⎝  2    8 ⎠ ⎜              2                      2    ⎟          √6⋅⎜- ───\n",
       "               ⎜    ⎛   2    ⎞             ⎛      2 ⎞     ⎟             ⎜     \n",
       "               ⎜    ⎜4⋅k     ⎟           5 ⎜     z  ⎟     ⎟             ⎜     \n",
       "               ⎜3⋅k⋅⎜──── + 1⎟        3⋅k ⋅⎜1 + ────⎟     ⎟             ⎜  6⋅k\n",
       "               ⎜    ⎜  2     ⎟             ⎜       2⎟     ⎟             ⎜     \n",
       "               ⎝    ⎝ z      ⎠             ⎝    4⋅k ⎠     ⎠             ⎝     \n",
       "────────────────────────────────────────────────────────────────── - ─────────\n",
       "                               2⋅π                                            \n",
       "\n",
       "                                                  \n",
       "                                                  \n",
       "                                                  \n",
       "                                                  \n",
       "                                                  \n",
       "                                                  \n",
       "                                                  \n",
       "                            ⎛      2 ⎞    ⎞       \n",
       "                        3.5 ⎜     z  ⎟    ⎟       \n",
       "                    √6⋅z   ⋅⎜1 - ────⎟    ⎟       \n",
       "     3.5                    ⎜       2⎟    ⎟       \n",
       " √6⋅z                       ⎝    4⋅k ⎠    ⎟       \n",
       "──────────── + ───────────────────────────⎟⋅cos(θ)\n",
       "  ⎛      2 ⎞        ⎛       2 ⎞ ⎛      2 ⎞⎟       \n",
       "3 ⎜     z  ⎟      3 ⎜      z  ⎟ ⎜     z  ⎟⎟       \n",
       " ⋅⎜1 + ────⎟   3⋅k ⋅⎜-2 - ────⎟⋅⎜1 + ────⎟⎟       \n",
       "  ⎜       2⎟        ⎜        2⎟ ⎜       2⎟⎟       \n",
       "  ⎝    4⋅k ⎠        ⎝     2⋅k ⎠ ⎝    4⋅k ⎠⎠       \n",
       "──────────────────────────────────────────────────\n",
       "                   2⋅π                            "
      ]
     },
     "execution_count": 178,
     "metadata": {},
     "output_type": "execute_result"
    }
   ],
   "source": [
    "T2p*(-z*z/(2*2**2) -k*k/2) - rhs"
   ]
  },
  {
   "cell_type": "code",
   "execution_count": 179,
   "metadata": {},
   "outputs": [
    {
     "data": {
      "image/png": "[encoded data removed]",
      "text/latex": [
       "$$0$$"
      ],
      "text/plain": [
       "0"
      ]
     },
     "execution_count": 179,
     "metadata": {},
     "output_type": "execute_result"
    }
   ],
   "source": [
    "simplify (T2p*(-z*z/(2*2**2) -k*k/2) - rhs)"
   ]
  },
  {
   "cell_type": "code",
   "execution_count": null,
   "metadata": {},
   "outputs": [],
   "source": []
  }
 ],
 "metadata": {
  "kernelspec": {
   "display_name": "Python 3",
   "language": "python",
   "name": "python3"
  },
  "language_info": {
   "codemirror_mode": {
    "name": "ipython",
    "version": 3
   },
   "file_extension": ".py",
   "mimetype": "text/x-python",
   "name": "python",
   "nbconvert_exporter": "python",
   "pygments_lexer": "ipython3",
   "version": "3.5.2"
  }
 },
 "nbformat": 4,
 "nbformat_minor": 1
}
