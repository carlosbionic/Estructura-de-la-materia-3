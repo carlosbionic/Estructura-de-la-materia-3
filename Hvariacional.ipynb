{
 "cells": [
  {
   "cell_type": "markdown",
   "metadata": {},
   "source": [
    "Cálculo Variacional de Estado Fundamental Hidrógeno "
   ]
  },
  {
   "cell_type": "code",
   "execution_count": 160,
   "metadata": {},
   "outputs": [],
   "source": [
    "from numpy import  linspace, zeros, array, pi, exp\n",
    "from scipy.linalg import  eigh , eigvalsh\n",
    "import sympy as sp\n",
    "\n",
    "%matplotlib inline\n",
    "from matplotlib.pyplot import plot, title, legend, show, axhline, \\\n",
    "                              xlabel, ylabel, axis, figure\n",
    "    \n",
    "import matplotlib.pyplot as plt"
   ]
  },
  {
   "cell_type": "code",
   "execution_count": 161,
   "metadata": {},
   "outputs": [],
   "source": [
    "#Función radial hidrogénica (con hipergeométricas)\n",
    "#Esta es la R grande, R=u/r\n",
    "\n",
    "def R_hyp(n,l,z,r):\n",
    "    rho = 2*r*z/n\n",
    "    rnum = (2*z/n)**3 * sp.factorial(n+l)\n",
    "    rden = (sp.factorial(2*l+1))**2 * 2*n * sp.factorial(n-l-1)\n",
    "    rnorm = sp.sqrt(rnum/rden)\n",
    "    \n",
    "    #if -n+l+1 == 0:\n",
    "    #    rfunc = (rho)**l * sp.exp(-rho/2)\n",
    "    #else:\n",
    "    rfunc = (rho)**l * sp.exp(-rho/2) * sp.hyper((-n+l+1,),(2*l+2,),(rho))\n",
    "        \n",
    "    R = rnorm * rfunc\n",
    "    return R"
   ]
  },
  {
   "cell_type": "code",
   "execution_count": 162,
   "metadata": {},
   "outputs": [],
   "source": [
    "nsize = 4\n",
    "S = zeros((nsize,nsize))\n",
    "H = zeros((nsize,nsize))\n",
    "Alpha = zeros((nsize))\n",
    "Ci = zeros((nsize))"
   ]
  },
  {
   "cell_type": "code",
   "execution_count": 163,
   "metadata": {},
   "outputs": [],
   "source": [
    "# Datos Iniciales para variacional\n",
    "Alpha[0] = 13.00773\n",
    "Alpha[1] = 1.962079\n",
    "Alpha[2] = 0.444529\n",
    "Alpha[3] = 0.1219492\n",
    "\n",
    "#Alpha[4] = 20.0\n",
    "#Alpha[5] = 8.0\n",
    "#Alpha[6] = 1.0\n",
    "#Alpha[7] = 0.05"
   ]
  },
  {
   "cell_type": "code",
   "execution_count": 164,
   "metadata": {},
   "outputs": [],
   "source": [
    "# Cálculo de Overlaps  Sij=<xi|xj>\n",
    "\n",
    "def overlap(Alpha,p,q):\n",
    "    spq = ( pi / (Alpha[p] + Alpha[q]) )**(3./2.)\n",
    "    \n",
    "    return spq\n",
    "\n",
    "for i in range(0,nsize):\n",
    "    for j in range(i,nsize):        \n",
    "        S[i,j]=overlap(Alpha,i,j)\n",
    "        S[j,i]=S[i,j]\n"
   ]
  },
  {
   "cell_type": "code",
   "execution_count": 165,
   "metadata": {},
   "outputs": [
    {
     "data": {
      "text/plain": [
       "array([[4.19640644e-02, 9.61391815e-02, 1.12857904e-01, 1.17042513e-01],\n",
       "       [9.61391815e-02, 7.16316708e-01, 1.49147774e+00, 1.85084232e+00],\n",
       "       [1.12857904e-01, 1.49147774e+00, 6.64247101e+00, 1.30602054e+01],\n",
       "       [1.17042513e-01, 1.85084232e+00, 1.30602054e+01, 4.62286682e+01]])"
      ]
     },
     "execution_count": 165,
     "metadata": {},
     "output_type": "execute_result"
    }
   ],
   "source": [
    "S"
   ]
  },
  {
   "cell_type": "code",
   "execution_count": 166,
   "metadata": {},
   "outputs": [],
   "source": [
    " # Cálculo de Hamiltoniano Hij=<xi| H |xj>\n",
    "\n",
    "\n",
    "# Cálculo de Energía Cinética  Tij=<xi|-1/2 D^2 |xj>\n",
    "def Tkin(Alpha,p,q):\n",
    "    rnum = 3 * pi**(3./2.) * Alpha[p] * Alpha[q]\n",
    "    rden =  (Alpha[p] + Alpha[q] )**(5./2.)    \n",
    "    Tpq = rnum/rden    \n",
    "    return Tpq\n",
    "\n",
    "\n",
    "# Cálculo de Energía Potencial  Vij=<xi|-Z/r |xj>\n",
    "def Vpot(Alpha,p,q):\n",
    "    Vpq =  ( -2*pi )  /  (Alpha[p] + Alpha[q])    \n",
    "    return Vpq\n",
    "\n",
    "for i in range(0,nsize):\n",
    "    for j in range(i,nsize): \n",
    "        H[i,j]=Tkin(Alpha,i,j) + Vpot(Alpha,i,j)\n",
    "        H[j,i]=H[i,j]\n",
    "   "
   ]
  },
  {
   "cell_type": "code",
   "execution_count": 167,
   "metadata": {},
   "outputs": [
    {
     "data": {
      "text/plain": [
       "array([[  0.57726847,   0.07200247,  -0.3215405 ,  -0.43612626],\n",
       "       [  0.07200247,   0.50704993,  -0.98918483,  -2.37741992],\n",
       "       [ -0.3215405 ,  -0.98918483,  -2.63808243,  -7.34221693],\n",
       "       [ -0.43612626,  -2.37741992,  -7.34221693, -17.30516271]])"
      ]
     },
     "execution_count": 167,
     "metadata": {},
     "output_type": "execute_result"
    }
   ],
   "source": [
    "H"
   ]
  },
  {
   "cell_type": "code",
   "execution_count": 168,
   "metadata": {},
   "outputs": [
    {
     "data": {
      "text/plain": [
       "array([-0.49927841,  0.11321392,  2.59229957, 21.14436519])"
      ]
     },
     "execution_count": 168,
     "metadata": {},
     "output_type": "execute_result"
    }
   ],
   "source": [
    "# Solución generalized eigenvalues (H-ES)(C)=0\n",
    "# Sólo Autovalores !\n",
    "\n",
    "Ener = eigvalsh(H,S,type=1)\n",
    "Ener"
   ]
  },
  {
   "cell_type": "code",
   "execution_count": 169,
   "metadata": {},
   "outputs": [
    {
     "data": {
      "text/plain": [
       "-0.49927840566748544"
      ]
     },
     "execution_count": 169,
     "metadata": {},
     "output_type": "execute_result"
    }
   ],
   "source": [
    "Ener[0]"
   ]
  },
  {
   "cell_type": "code",
   "execution_count": 178,
   "metadata": {},
   "outputs": [
    {
     "data": {
      "text/plain": [
       "array([-0.09610152, -0.16301717, -0.18558699, -0.07370076])"
      ]
     },
     "execution_count": 178,
     "metadata": {},
     "output_type": "execute_result"
    }
   ],
   "source": [
    "# Solución generalized eigenvalues (H-ES)(C)=0\n",
    "\n",
    "Ener,coef = eigh(H,S,type=1)\n",
    "Ci = coef[:,0] #Ci es un array\n",
    "Ci"
   ]
  },
  {
   "cell_type": "code",
   "execution_count": 171,
   "metadata": {},
   "outputs": [],
   "source": [
    "def psi(Ci,Alpha,x):\n",
    "    from math import  exp\n",
    "    nsize = len(Ci) \n",
    "    sum = 0.0\n",
    "    for i in range(0,nsize):\n",
    "        sum = sum + Ci[i]*exp(-Alpha[i]*x**2)\n",
    "    return sum"
   ]
  },
  {
   "cell_type": "code",
   "execution_count": 172,
   "metadata": {},
   "outputs": [],
   "source": [
    "# array definitions\n",
    "npts = 100\n",
    "xmin=0.0\n",
    "xmax=4.0\n",
    "x = linspace(xmin,xmax,npts)\n",
    "wave1s = zeros(npts)\n",
    "wave1steo = zeros(npts)"
   ]
  },
  {
   "cell_type": "code",
   "execution_count": 192,
   "metadata": {},
   "outputs": [],
   "source": [
    "for i in range(0,npts):\n",
    "        wave1s[i] = psi(abs(Ci),Alpha,x[i])\n",
    "\n",
    "        wave1steo[i] = R_hyp(1,0,1,x[i])"
   ]
  },
  {
   "cell_type": "code",
   "execution_count": 196,
   "metadata": {},
   "outputs": [],
   "source": [
    "#Normalizo la funcion de onda wave1s\n",
    "\n",
    "from scipy.integrate import simps\n",
    "\n",
    "norm = 0\n",
    "#norm = simps(wave1s, x, dx=1, axis=-1, even='avg')\n",
    "norm = simps(wave1s, x, even='avg')\n",
    "wave1s = wave1s/norm\n",
    "#print(simps(wave1s, x, even='avg'))\n",
    "wave1s = wave1s*simps(wave1steo, x, even='avg')\n",
    "\n",
    "#print(simps(wave1steo, x, even='avg'))\n",
    "#print(simps(wave1s, x, even='avg'))"
   ]
  },
  {
   "cell_type": "code",
   "execution_count": 197,
   "metadata": {},
   "outputs": [
    {
     "data": {
      "image/png": "[encoded data removed]",
      "text/plain": [
       "<matplotlib.figure.Figure at 0x7f2b70c5fe10>"
      ]
     },
     "metadata": {},
     "output_type": "display_data"
    }
   ],
   "source": [
    "figure(figsize=(10,6))\n",
    "plt.rcParams.update({'font.size': 15})\n",
    "\n",
    "plot(x,wave1s,label='variational');\n",
    "plot(x,wave1steo,label='teo');\n",
    "\n",
    "for i in range(0,nsize):\n",
    "    plot(x,-Ci[i]*exp(-Alpha[i]*x**2),label='gauss1');\n",
    "\n",
    "legend(loc='upper center', shadow=True, fontsize='x-large')\n",
    "\n",
    "axis([xmin,xmax,0,2.5]);\n",
    "title(\"Ground State Wavefunction of Hydrogen Atom (variational)\");\n",
    "xlabel(\"r (a.u.)\");\n",
    "ylabel(\"$\\Psi_{1s}$\",size=15);"
   ]
  },
  {
   "cell_type": "code",
   "execution_count": null,
   "metadata": {
    "collapsed": true
   },
   "outputs": [],
   "source": []
  }
 ],
 "metadata": {
  "kernelspec": {
   "display_name": "Python 3",
   "language": "python",
   "name": "python3"
  },
  "language_info": {
   "codemirror_mode": {
    "name": "ipython",
    "version": 3
   },
   "file_extension": ".py",
   "mimetype": "text/x-python",
   "name": "python",
   "nbconvert_exporter": "python",
   "pygments_lexer": "ipython3",
   "version": "3.5.2"
  }
 },
 "nbformat": 4,
 "nbformat_minor": 1
}
