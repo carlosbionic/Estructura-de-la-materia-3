{
 "cells": [
  {
   "cell_type": "markdown",
   "metadata": {},
   "source": [
    "## Hartree Fock para el estado fundamental del Helio"
   ]
  },
  {
   "cell_type": "code",
   "execution_count": 1,
   "metadata": {},
   "outputs": [],
   "source": [
    "#Librerias matematicas\n",
    "import numpy as np\n",
    "\n",
    "#Coso para resolver el problema de autovalores generalizado (eigvalsh devuelve solo autovalores)\n",
    "from scipy.linalg import  eigh , eigvalsh\n",
    "\n",
    "#Librerias para manipular cosas de forma simbolica\n",
    "import sympy as sp\n",
    "\n",
    "#Cosas para plotear\n",
    "%matplotlib inline\n",
    "import matplotlib as plt"
   ]
  },
  {
   "cell_type": "code",
   "execution_count": 2,
   "metadata": {},
   "outputs": [],
   "source": [
    "z = 1 #Helio\n",
    "\n",
    "nsize = 4\n",
    "S = np.zeros((nsize,nsize))  # Overlap\n",
    "H = np.zeros((nsize,nsize))  # One-electron Hamiltonian\n",
    "G = np.zeros((nsize,nsize))  # Two-electron Operator\n",
    "Q = np.zeros((nsize,nsize))\n",
    "F = np.zeros((nsize,nsize))  # Fock Operator Hij + Gij"
   ]
  },
  {
   "cell_type": "code",
   "execution_count": 3,
   "metadata": {},
   "outputs": [],
   "source": [
    "# Gaussian Basis  Ci*exp(-Alpha*r^2)\n",
    "Alpha = np.zeros((nsize))    \n",
    "\n",
    "\n",
    "# Datos Iniciales\n",
    "Alpha[0] = 0.298073\n",
    "Alpha[1] = 1.242567\n",
    "Alpha[2] = 5.782948\n",
    "Alpha[3] = 38.47497\n",
    "#Alpha[4] = 0.1\n",
    "#Alpha[5] = 5\n",
    "#Alpha[6] = 20.\n",
    "#Alpha[7] = 50.0"
   ]
  },
  {
   "cell_type": "code",
   "execution_count": 4,
   "metadata": {},
   "outputs": [],
   "source": [
    "# Cálculo de Overlaps  Sij=<xi|xj>\n",
    "\n",
    "def overlap(Alpha,p,q):\n",
    "    spq = ( np.pi / (Alpha[p] + Alpha[q]) )**(3./2.)\n",
    "    \n",
    "    return spq\n",
    "\n",
    "for i in range(0,nsize):\n",
    "    for j in range(i,nsize):        \n",
    "        S[i,j]=overlap(Alpha,i,j)\n",
    "        S[j,i]=S[i,j]\n"
   ]
  },
  {
   "cell_type": "code",
   "execution_count": 5,
   "metadata": {},
   "outputs": [],
   "source": [
    " # Cálculo de Hamiltoniano Hij=<xi| H |xj>\n",
    "\n",
    "\n",
    "# Cálculo de Energía Cinética  Tij=<xi|-1/2 D^2 |xj>\n",
    "def Tkin(Alpha,p,q):\n",
    "    rnum = 3 * np.pi**(3./2.) * Alpha[p] * Alpha[q]\n",
    "    rden =  (Alpha[p] + Alpha[q] )**(5./2.)    \n",
    "    Tpq = rnum/rden    \n",
    "    return Tpq\n",
    "\n",
    "\n",
    "# Cálculo de Energía Potencial  Vij=<xi|-Z/r |xj>\n",
    "def Vpot(Alpha,p,q):\n",
    "    Vpq = z * ( -2*np.pi )  /  (Alpha[p] + Alpha[q])    \n",
    "    return Vpq\n",
    "\n",
    "for i in range(0,nsize):\n",
    "    for j in range(i,nsize): \n",
    "        H[i,j]=Tkin(Alpha,i,j) + Vpot(Alpha,i,j)\n",
    "        H[j,i]=H[i,j]\n",
    "   "
   ]
  },
  {
   "cell_type": "code",
   "execution_count": 6,
   "metadata": {},
   "outputs": [],
   "source": [
    "# Cálculo de Repulsión Interelectrónica \n",
    "# Qirjs=<xi(r1)xr(r2)| 1/|r1-r2| |xj(r1)xs(r2)>\n",
    "\n",
    "\n",
    "# Cálculo de Integral de Repulsión\n",
    "# Qirjs=<xi(r1)xr(r2)| 1/|r1-r2| |xj(r1)xs(r2)>\n",
    "# Ecuación (4.17) del Thijssen\n",
    "\n",
    "def Qirjs(Alpha,i,r,j,s):\n",
    "    rnum = 2 * np.pi**(5./2.) \n",
    "    sqrsum = np.sqrt(Alpha[i]+Alpha[j]+Alpha[r]+Alpha[s])\n",
    "    rden =  (Alpha[i]+Alpha[j])*(Alpha[r]+Alpha[s])*sqrsum    \n",
    "    Qirjs = rnum/rden    \n",
    "    return Qirjs\n",
    "\n"
   ]
  },
  {
   "cell_type": "code",
   "execution_count": 7,
   "metadata": {},
   "outputs": [
    {
     "data": {
      "text/plain": [
       "[-0.9607965036865096,\n",
       " -0.2471261265106073,\n",
       " -0.2879556327498642,\n",
       " -0.280514839664046,\n",
       " -0.2818838235736279,\n",
       " -0.2816320283692169,\n",
       " -0.28167834748399456,\n",
       " -0.2816698270103204,\n",
       " -0.28167139437150174,\n",
       " -0.28167110605194534,\n",
       " -0.2816711590889731,\n",
       " -0.2816711493326932,\n",
       " -0.28167115112738317,\n",
       " -0.28167115079724575,\n",
       " -0.28167115085797517]"
      ]
     },
     "execution_count": 7,
     "metadata": {},
     "output_type": "execute_result"
    }
   ],
   "source": [
    "#Aca voy a iterar Hartree Fock 15 veces\n",
    "\n",
    "Ci = np.zeros((nsize)) #Inicializo los coeficientes con ceros\n",
    "\n",
    "EnergyGS = []\n",
    "\n",
    "for m in range(0,15):\n",
    "\n",
    "    #Me armo el operador Q\n",
    "    for i in range(0,nsize):\n",
    "        for j in range(i,nsize):\n",
    "            sum = 0\n",
    "            for r in range(0,nsize):\n",
    "                for s in range(0,nsize):\n",
    "                    sum = sum + Qirjs(Alpha,i,r,j,s)*Ci[r]*Ci[s]\n",
    "            Q[i,j] = sum\n",
    "            Q[j,i] = sum\n",
    "\n",
    "    #Armo el operador de Fock\n",
    "    F = H + Q\n",
    "\n",
    "    #Ener = eigvalsh(F,S,type=1)\n",
    "    Ener,coef = eigh(F,S,type=1) #Me tira 4 autoenergias y 4 autovectores\n",
    "\n",
    "    Ci = coef[:,0]\n",
    "\n",
    "    #Ener[0],coef[:,0]\n",
    "\n",
    "    #Normalizo los coeficientes C\n",
    "\n",
    "    sum = 0\n",
    "\n",
    "    for i in range(0,nsize):\n",
    "        for j in range(0,nsize):\n",
    "            sum = sum + Ci[i]*S[i,j]*Ci[j]\n",
    "\n",
    "    Ci = Ci/np.sqrt(sum)\n",
    "\n",
    "    # Energía Total\n",
    "\n",
    "\n",
    "    sum = 0.0\n",
    "    for i in range(0,nsize):\n",
    "        for j in range(0,nsize):\n",
    "            sum = sum + Ci[i]*Ci[j]*(2.0*H[i,j]+Q[i,j])\n",
    "\n",
    "    EnergyGSnew = sum\n",
    "    #EnergyGSnew\n",
    "\n",
    "    EnergyGS.append(EnergyGSnew)\n",
    "    \n",
    "EnergyGS"
   ]
  },
  {
   "cell_type": "code",
   "execution_count": 9,
   "metadata": {},
   "outputs": [
    {
     "data": {
      "text/plain": [
       "0.47265625"
      ]
     },
     "execution_count": 9,
     "metadata": {},
     "output_type": "execute_result"
    }
   ],
   "source": [
    "(11/16)**2"
   ]
  },
  {
   "cell_type": "code",
   "execution_count": null,
   "metadata": {},
   "outputs": [],
   "source": []
  }
 ],
 "metadata": {
  "kernelspec": {
   "display_name": "Python 3",
   "language": "python",
   "name": "python3"
  },
  "language_info": {
   "codemirror_mode": {
    "name": "ipython",
    "version": 3
   },
   "file_extension": ".py",
   "mimetype": "text/x-python",
   "name": "python",
   "nbconvert_exporter": "python",
   "pygments_lexer": "ipython3",
   "version": "3.5.2"
  }
 },
 "nbformat": 4,
 "nbformat_minor": 2
}
